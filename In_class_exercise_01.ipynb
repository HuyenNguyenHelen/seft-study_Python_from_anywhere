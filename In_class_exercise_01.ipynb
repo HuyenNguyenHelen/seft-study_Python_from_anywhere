{
  "nbformat": 4,
  "nbformat_minor": 0,
  "metadata": {
    "colab": {
      "name": "Copy of In_class_exercise_01.ipynb",
      "provenance": [],
      "collapsed_sections": [],
      "include_colab_link": true
    },
    "kernelspec": {
      "name": "python3",
      "display_name": "Python 3"
    }
  },
  "cells": [
    {
      "cell_type": "markdown",
      "metadata": {
        "id": "view-in-github",
        "colab_type": "text"
      },
      "source": [
        "<a href=\"https://colab.research.google.com/github/HuyenNguyenHelen/seft-study_Python_from_anywhere/blob/master/In_class_exercise_01.ipynb\" target=\"_parent\"><img src=\"https://colab.research.google.com/assets/colab-badge.svg\" alt=\"Open In Colab\"/></a>"
      ]
    },
    {
      "cell_type": "markdown",
      "metadata": {
        "id": "DymRJbxDBCnf",
        "colab_type": "text"
      },
      "source": [
        "# **The first In-class-exercise**"
      ]
    },
    {
      "cell_type": "markdown",
      "metadata": {
        "id": "03jb4GZsBkBS",
        "colab_type": "text"
      },
      "source": [
        "(1) Write a Python program to calculate the length of a string."
      ]
    },
    {
      "cell_type": "code",
      "metadata": {
        "id": "YaGLbSHHB8Ej",
        "colab_type": "code",
        "outputId": "fd155dcc-8da7-41a9-9b37-820d04410101",
        "colab": {
          "base_uri": "https://localhost:8080/",
          "height": 35
        }
      },
      "source": [
        "# write your answer here\n",
        "def length_str (string):\n",
        "  return len(string)\n",
        "length_str(\"hello\")\n",
        "\n"
      ],
      "execution_count": 0,
      "outputs": [
        {
          "output_type": "execute_result",
          "data": {
            "text/plain": [
              "5"
            ]
          },
          "metadata": {
            "tags": []
          },
          "execution_count": 1
        }
      ]
    },
    {
      "cell_type": "markdown",
      "metadata": {
        "id": "jJDe71iLB616",
        "colab_type": "text"
      },
      "source": [
        "(2) Write a Python program to count the number of characters in a string.\n",
        "\n",
        "Sample String : 'google.com‘, \n",
        "\n",
        "Expected Result : {'o': 3, 'g': 2, '.': 1, 'e': 1, 'l': 1, 'm': 1, 'c': 1}"
      ]
    },
    {
      "cell_type": "code",
      "metadata": {
        "id": "MtKskTzbCLaU",
        "colab_type": "code",
        "outputId": "e55238be-58d9-41fc-8b39-46dcaa394b50",
        "colab": {
          "base_uri": "https://localhost:8080/",
          "height": 35
        }
      },
      "source": [
        "# write your answer here\n",
        "def count_str (string):\n",
        "  hist=dict()\n",
        "  for letter in string:\n",
        "    hist[letter]=hist.get(letter,0)+1\n",
        "  return hist\n",
        "count_str(\"google.com\")\n"
      ],
      "execution_count": 0,
      "outputs": [
        {
          "output_type": "execute_result",
          "data": {
            "text/plain": [
              "{'.': 1, 'c': 1, 'e': 1, 'g': 2, 'l': 1, 'm': 1, 'o': 3}"
            ]
          },
          "metadata": {
            "tags": []
          },
          "execution_count": 3
        }
      ]
    },
    {
      "cell_type": "markdown",
      "metadata": {
        "id": "55W9AMdXCSpV",
        "colab_type": "text"
      },
      "source": [
        "(3) Write a Python program to sum all the items in a list"
      ]
    },
    {
      "cell_type": "code",
      "metadata": {
        "id": "I57NXsauCec2",
        "colab_type": "code",
        "outputId": "93921414-b502-42b6-a245-a5a4d869e615",
        "colab": {
          "base_uri": "https://localhost:8080/",
          "height": 35
        }
      },
      "source": [
        "# write your answer here\n",
        "def sum_list (t):\n",
        "  return sum(t)\n",
        "t=[2,4,7,1]\n",
        "sum_list(t)\n",
        "\n"
      ],
      "execution_count": 0,
      "outputs": [
        {
          "output_type": "execute_result",
          "data": {
            "text/plain": [
              "14"
            ]
          },
          "metadata": {
            "tags": []
          },
          "execution_count": 6
        }
      ]
    },
    {
      "cell_type": "markdown",
      "metadata": {
        "id": "4ulBZ6yhCi9F",
        "colab_type": "text"
      },
      "source": [
        "(4) Write a Python program to get a string from a given string where all occurrences of its first char have been changed to '\\$', except the first char itself. \n",
        "\n",
        "Sample String : 'restart‘, \n",
        "\n",
        "Expected Result : 'resta\\$t'"
      ]
    },
    {
      "cell_type": "code",
      "metadata": {
        "id": "Fj0XhwbBCw2o",
        "colab_type": "code",
        "outputId": "dcfc12c2-973f-448d-dd1b-7c2462738b65",
        "colab": {
          "base_uri": "https://localhost:8080/",
          "height": 35
        }
      },
      "source": [
        "# write your answer here\n",
        "def change_str (string):\n",
        "  char1=string[0]\n",
        "  for char2 in string[1:]:\n",
        "    if char2==char1:\n",
        "      rep=string.replace(char2,\"$\")\n",
        "      print(char1+rep[1:])\n",
        "change_str (\"restart\")"
      ],
      "execution_count": 24,
      "outputs": [
        {
          "output_type": "stream",
          "text": [
            "resta$t\n"
          ],
          "name": "stdout"
        }
      ]
    },
    {
      "cell_type": "markdown",
      "metadata": {
        "id": "_bIP7s1MCzue",
        "colab_type": "text"
      },
      "source": [
        "(5) Write a program with python which could accept two parameter a and b to calculate and output the result of S, where \n",
        "\n",
        "$\\ S=3.14*(1+a/b)^3$\n",
        "\n"
      ]
    },
    {
      "cell_type": "code",
      "metadata": {
        "id": "w79QilHXD3Mg",
        "colab_type": "code",
        "outputId": "e45015dd-1743-42ca-e200-07fead1e1194",
        "colab": {
          "base_uri": "https://localhost:8080/",
          "height": 35
        }
      },
      "source": [
        "# write your answer here\n",
        "def cal_s (a,b):\n",
        "  s= 3.14 * (1+a/b)**3\n",
        "  print(s)\n",
        "cal_s(2,3)\n"
      ],
      "execution_count": 0,
      "outputs": [
        {
          "output_type": "stream",
          "text": [
            "14.537037037037033\n"
          ],
          "name": "stdout"
        }
      ]
    },
    {
      "cell_type": "markdown",
      "metadata": {
        "id": "xCa2bK9aD4Q3",
        "colab_type": "text"
      },
      "source": [
        "(6) Write a Python program to concatenate following dictionaries to create a new one. \n",
        "\n",
        "Sample Dictionary : dic1={1:10, 2:20}, dic2={3:30, 4:40}, dic3={5:50,6:60}, \n",
        "\n",
        "Expected Result : {1: 10, 2: 20, 3: 30, 4: 40, 5: 50, 6: 60}\n"
      ]
    },
    {
      "cell_type": "code",
      "metadata": {
        "id": "_z4aLqAbEET1",
        "colab_type": "code",
        "outputId": "4e0ac52f-1120-4da7-890a-f57cbd69b7c2",
        "colab": {
          "base_uri": "https://localhost:8080/",
          "height": 35
        }
      },
      "source": [
        "# write your answer here\n",
        "def concatenate_dict (dic1, dic2, dic3):\n",
        "  my_dic=dict()\n",
        "  my_dic.update (dic1)\n",
        "  my_dic.update(dic2)\n",
        "  my_dic.update(dic3)\n",
        "  return my_dic\n",
        "dic1={1:10, 2:20}\n",
        "dic2={3:30, 4:40}\n",
        "dic3={5:50,6:60}\n",
        "concatenate_dict (dic1, dic2, dic3)"
      ],
      "execution_count": 35,
      "outputs": [
        {
          "output_type": "execute_result",
          "data": {
            "text/plain": [
              "{1: 10, 2: 20, 3: 30, 4: 40, 5: 50, 6: 60}"
            ]
          },
          "metadata": {
            "tags": []
          },
          "execution_count": 35
        }
      ]
    },
    {
      "cell_type": "markdown",
      "metadata": {
        "id": "0v48Vqa7FrQh",
        "colab_type": "text"
      },
      "source": [
        "(7) Write a Python program to check whether an element exists within a tuple."
      ]
    },
    {
      "cell_type": "code",
      "metadata": {
        "id": "7WEmgq-DF2P1",
        "colab_type": "code",
        "outputId": "47368682-dc0b-447b-f8c5-9ef27c840636",
        "colab": {
          "base_uri": "https://localhost:8080/",
          "height": 35
        }
      },
      "source": [
        "# write your answer here\n",
        "def test_tuple (e,t):\n",
        "  if e in t:\n",
        "    return True\n",
        "  False\n",
        "t=(\"lemur\", \"tiger\",\"cat\")\n",
        "test_tuple(\"cat\",t)\n",
        "\n"
      ],
      "execution_count": 0,
      "outputs": [
        {
          "output_type": "execute_result",
          "data": {
            "text/plain": [
              "True"
            ]
          },
          "metadata": {
            "tags": []
          },
          "execution_count": 3
        }
      ]
    },
    {
      "cell_type": "markdown",
      "metadata": {
        "id": "vD5PYLMuGga_",
        "colab_type": "text"
      },
      "source": [
        "(8) Write a Python program to find maximum and the minimum value in a set. "
      ]
    },
    {
      "cell_type": "code",
      "metadata": {
        "id": "t0D5kdJUGjjw",
        "colab_type": "code",
        "outputId": "9d9bccba-0a0d-4d83-9ad6-43ef1e47762c",
        "colab": {
          "base_uri": "https://localhost:8080/",
          "height": 35
        }
      },
      "source": [
        "# write your answer here\n",
        "def min_max (set):\n",
        "  for element in set:\n",
        "    return  min(set),max(set)\n",
        "s={12,3,90,1}\n",
        "min_max (s)\n"
      ],
      "execution_count": 0,
      "outputs": [
        {
          "output_type": "execute_result",
          "data": {
            "text/plain": [
              "(1, 90)"
            ]
          },
          "metadata": {
            "tags": []
          },
          "execution_count": 5
        }
      ]
    },
    {
      "cell_type": "markdown",
      "metadata": {
        "id": "uHkd-y5VhVWC",
        "colab_type": "text"
      },
      "source": [
        "(9) Write a Python program to randomly divide the students in this class into four groups for term projects. Here is the students list:\n",
        "\n",
        "studnet_list = ['sa0753','laa0240','lba0043','pb0283','vmb0067','vcd0017','ag1121','lg0426','mj0396','ak0860','vk0222','vk0216',\n",
        "                'tpk0023','nk0327','mk0830','tbl0041','al0787','am1823','sm1515','km0738','hn0139','an0521','ap0975','dp1080',\n",
        "                'pk0292','vp0241','rp0477','hr0178','ps0501','ss1976','ss1872','ss1872','bs0490','pt0218','ry0104']"
      ]
    },
    {
      "cell_type": "code",
      "metadata": {
        "id": "3iGbmcOBhTwy",
        "colab_type": "code",
        "outputId": "5dabf863-761e-43f6-9e05-9d49e529b9e1",
        "colab": {
          "base_uri": "https://localhost:8080/",
          "height": 87
        }
      },
      "source": [
        "# write your answer here\n",
        "import random\n",
        "def student_groups(studnet_list):\n",
        "  sample= []\n",
        "  for student in range(4):\n",
        "    if student not in sample:\n",
        "      sample.append(random.sample(studnet_list, k=6))\n",
        "  return sample\n",
        "studnet_list = ['sa0753','laa0240','lba0043','pb0283','vmb0067','vcd0017','ag1121','lg0426','mj0396','ak0860','vk0222','vk0216', 'tpk0023','nk0327','mk0830','tbl0041','al0787','am1823','sm1515','km0738','hn0139','an0521','ap0975','dp1080', 'pk0292','vp0241','rp0477','hr0178','ps0501','ss1976','ss1872','ss1872','bs0490','pt0218','ry0104']\n",
        "student_groups(studnet_list)\n"
      ],
      "execution_count": 8,
      "outputs": [
        {
          "output_type": "execute_result",
          "data": {
            "text/plain": [
              "[['vmb0067', 'tbl0041', 'mk0830', 'lg0426', 'sm1515', 'an0521'],\n",
              " ['tpk0023', 'sa0753', 'ag1121', 'hn0139', 'vp0241', 'bs0490'],\n",
              " ['ss1872', 'vp0241', 'ag1121', 'bs0490', 'an0521', 'nk0327'],\n",
              " ['ry0104', 'nk0327', 'lba0043', 'pk0292', 'pt0218', 'ss1872']]"
            ]
          },
          "metadata": {
            "tags": []
          },
          "execution_count": 8
        }
      ]
    },
    {
      "cell_type": "code",
      "metadata": {
        "id": "RIh-44M5FQ_K",
        "colab_type": "code",
        "colab": {
          "base_uri": "https://localhost:8080/",
          "height": 1000
        },
        "outputId": "bae76752-5042-4170-ea5d-69f6b2236ee8"
      },
      "source": [
        "# write your answer here\n",
        "import random\n",
        "def student_groups(studnet_list):\n",
        "  for student in range(4):\n",
        "    sample= random.sample(studnet_list, k=6)\n",
        "    for student in studnet_list:\n",
        "      if student not in sample:\n",
        "        print(sample)\n",
        "studnet_list = ['sa0753','laa0240','lba0043','pb0283','vmb0067','vcd0017','ag1121','lg0426','mj0396','ak0860','vk0222','vk0216', 'tpk0023','nk0327','mk0830','tbl0041','al0787','am1823','sm1515','km0738','hn0139','an0521','ap0975','dp1080', 'pk0292','vp0241','rp0477','hr0178','ps0501','ss1976','ss1872','ss1872','bs0490','pt0218','ry0104']\n",
        "student_groups(studnet_list)"
      ],
      "execution_count": 38,
      "outputs": [
        {
          "output_type": "stream",
          "text": [
            "['tbl0041', 'pk0292', 'sa0753', 'bs0490', 'nk0327', 'km0738']\n",
            "['tbl0041', 'pk0292', 'sa0753', 'bs0490', 'nk0327', 'km0738']\n",
            "['tbl0041', 'pk0292', 'sa0753', 'bs0490', 'nk0327', 'km0738']\n",
            "['tbl0041', 'pk0292', 'sa0753', 'bs0490', 'nk0327', 'km0738']\n",
            "['tbl0041', 'pk0292', 'sa0753', 'bs0490', 'nk0327', 'km0738']\n",
            "['tbl0041', 'pk0292', 'sa0753', 'bs0490', 'nk0327', 'km0738']\n",
            "['tbl0041', 'pk0292', 'sa0753', 'bs0490', 'nk0327', 'km0738']\n",
            "['tbl0041', 'pk0292', 'sa0753', 'bs0490', 'nk0327', 'km0738']\n",
            "['tbl0041', 'pk0292', 'sa0753', 'bs0490', 'nk0327', 'km0738']\n",
            "['tbl0041', 'pk0292', 'sa0753', 'bs0490', 'nk0327', 'km0738']\n",
            "['tbl0041', 'pk0292', 'sa0753', 'bs0490', 'nk0327', 'km0738']\n",
            "['tbl0041', 'pk0292', 'sa0753', 'bs0490', 'nk0327', 'km0738']\n",
            "['tbl0041', 'pk0292', 'sa0753', 'bs0490', 'nk0327', 'km0738']\n",
            "['tbl0041', 'pk0292', 'sa0753', 'bs0490', 'nk0327', 'km0738']\n",
            "['tbl0041', 'pk0292', 'sa0753', 'bs0490', 'nk0327', 'km0738']\n",
            "['tbl0041', 'pk0292', 'sa0753', 'bs0490', 'nk0327', 'km0738']\n",
            "['tbl0041', 'pk0292', 'sa0753', 'bs0490', 'nk0327', 'km0738']\n",
            "['tbl0041', 'pk0292', 'sa0753', 'bs0490', 'nk0327', 'km0738']\n",
            "['tbl0041', 'pk0292', 'sa0753', 'bs0490', 'nk0327', 'km0738']\n",
            "['tbl0041', 'pk0292', 'sa0753', 'bs0490', 'nk0327', 'km0738']\n",
            "['tbl0041', 'pk0292', 'sa0753', 'bs0490', 'nk0327', 'km0738']\n",
            "['tbl0041', 'pk0292', 'sa0753', 'bs0490', 'nk0327', 'km0738']\n",
            "['tbl0041', 'pk0292', 'sa0753', 'bs0490', 'nk0327', 'km0738']\n",
            "['tbl0041', 'pk0292', 'sa0753', 'bs0490', 'nk0327', 'km0738']\n",
            "['tbl0041', 'pk0292', 'sa0753', 'bs0490', 'nk0327', 'km0738']\n",
            "['tbl0041', 'pk0292', 'sa0753', 'bs0490', 'nk0327', 'km0738']\n",
            "['tbl0041', 'pk0292', 'sa0753', 'bs0490', 'nk0327', 'km0738']\n",
            "['tbl0041', 'pk0292', 'sa0753', 'bs0490', 'nk0327', 'km0738']\n",
            "['tbl0041', 'pk0292', 'sa0753', 'bs0490', 'nk0327', 'km0738']\n",
            "['vcd0017', 'hn0139', 'ak0860', 'laa0240', 'mj0396', 'al0787']\n",
            "['vcd0017', 'hn0139', 'ak0860', 'laa0240', 'mj0396', 'al0787']\n",
            "['vcd0017', 'hn0139', 'ak0860', 'laa0240', 'mj0396', 'al0787']\n",
            "['vcd0017', 'hn0139', 'ak0860', 'laa0240', 'mj0396', 'al0787']\n",
            "['vcd0017', 'hn0139', 'ak0860', 'laa0240', 'mj0396', 'al0787']\n",
            "['vcd0017', 'hn0139', 'ak0860', 'laa0240', 'mj0396', 'al0787']\n",
            "['vcd0017', 'hn0139', 'ak0860', 'laa0240', 'mj0396', 'al0787']\n",
            "['vcd0017', 'hn0139', 'ak0860', 'laa0240', 'mj0396', 'al0787']\n",
            "['vcd0017', 'hn0139', 'ak0860', 'laa0240', 'mj0396', 'al0787']\n",
            "['vcd0017', 'hn0139', 'ak0860', 'laa0240', 'mj0396', 'al0787']\n",
            "['vcd0017', 'hn0139', 'ak0860', 'laa0240', 'mj0396', 'al0787']\n",
            "['vcd0017', 'hn0139', 'ak0860', 'laa0240', 'mj0396', 'al0787']\n",
            "['vcd0017', 'hn0139', 'ak0860', 'laa0240', 'mj0396', 'al0787']\n",
            "['vcd0017', 'hn0139', 'ak0860', 'laa0240', 'mj0396', 'al0787']\n",
            "['vcd0017', 'hn0139', 'ak0860', 'laa0240', 'mj0396', 'al0787']\n",
            "['vcd0017', 'hn0139', 'ak0860', 'laa0240', 'mj0396', 'al0787']\n",
            "['vcd0017', 'hn0139', 'ak0860', 'laa0240', 'mj0396', 'al0787']\n",
            "['vcd0017', 'hn0139', 'ak0860', 'laa0240', 'mj0396', 'al0787']\n",
            "['vcd0017', 'hn0139', 'ak0860', 'laa0240', 'mj0396', 'al0787']\n",
            "['vcd0017', 'hn0139', 'ak0860', 'laa0240', 'mj0396', 'al0787']\n",
            "['vcd0017', 'hn0139', 'ak0860', 'laa0240', 'mj0396', 'al0787']\n",
            "['vcd0017', 'hn0139', 'ak0860', 'laa0240', 'mj0396', 'al0787']\n",
            "['vcd0017', 'hn0139', 'ak0860', 'laa0240', 'mj0396', 'al0787']\n",
            "['vcd0017', 'hn0139', 'ak0860', 'laa0240', 'mj0396', 'al0787']\n",
            "['vcd0017', 'hn0139', 'ak0860', 'laa0240', 'mj0396', 'al0787']\n",
            "['vcd0017', 'hn0139', 'ak0860', 'laa0240', 'mj0396', 'al0787']\n",
            "['vcd0017', 'hn0139', 'ak0860', 'laa0240', 'mj0396', 'al0787']\n",
            "['vcd0017', 'hn0139', 'ak0860', 'laa0240', 'mj0396', 'al0787']\n",
            "['vcd0017', 'hn0139', 'ak0860', 'laa0240', 'mj0396', 'al0787']\n",
            "['laa0240', 'ss1872', 'hn0139', 'lg0426', 'pt0218', 'sm1515']\n",
            "['laa0240', 'ss1872', 'hn0139', 'lg0426', 'pt0218', 'sm1515']\n",
            "['laa0240', 'ss1872', 'hn0139', 'lg0426', 'pt0218', 'sm1515']\n",
            "['laa0240', 'ss1872', 'hn0139', 'lg0426', 'pt0218', 'sm1515']\n",
            "['laa0240', 'ss1872', 'hn0139', 'lg0426', 'pt0218', 'sm1515']\n",
            "['laa0240', 'ss1872', 'hn0139', 'lg0426', 'pt0218', 'sm1515']\n",
            "['laa0240', 'ss1872', 'hn0139', 'lg0426', 'pt0218', 'sm1515']\n",
            "['laa0240', 'ss1872', 'hn0139', 'lg0426', 'pt0218', 'sm1515']\n",
            "['laa0240', 'ss1872', 'hn0139', 'lg0426', 'pt0218', 'sm1515']\n",
            "['laa0240', 'ss1872', 'hn0139', 'lg0426', 'pt0218', 'sm1515']\n",
            "['laa0240', 'ss1872', 'hn0139', 'lg0426', 'pt0218', 'sm1515']\n",
            "['laa0240', 'ss1872', 'hn0139', 'lg0426', 'pt0218', 'sm1515']\n",
            "['laa0240', 'ss1872', 'hn0139', 'lg0426', 'pt0218', 'sm1515']\n",
            "['laa0240', 'ss1872', 'hn0139', 'lg0426', 'pt0218', 'sm1515']\n",
            "['laa0240', 'ss1872', 'hn0139', 'lg0426', 'pt0218', 'sm1515']\n",
            "['laa0240', 'ss1872', 'hn0139', 'lg0426', 'pt0218', 'sm1515']\n",
            "['laa0240', 'ss1872', 'hn0139', 'lg0426', 'pt0218', 'sm1515']\n",
            "['laa0240', 'ss1872', 'hn0139', 'lg0426', 'pt0218', 'sm1515']\n",
            "['laa0240', 'ss1872', 'hn0139', 'lg0426', 'pt0218', 'sm1515']\n",
            "['laa0240', 'ss1872', 'hn0139', 'lg0426', 'pt0218', 'sm1515']\n",
            "['laa0240', 'ss1872', 'hn0139', 'lg0426', 'pt0218', 'sm1515']\n",
            "['laa0240', 'ss1872', 'hn0139', 'lg0426', 'pt0218', 'sm1515']\n",
            "['laa0240', 'ss1872', 'hn0139', 'lg0426', 'pt0218', 'sm1515']\n",
            "['laa0240', 'ss1872', 'hn0139', 'lg0426', 'pt0218', 'sm1515']\n",
            "['laa0240', 'ss1872', 'hn0139', 'lg0426', 'pt0218', 'sm1515']\n",
            "['laa0240', 'ss1872', 'hn0139', 'lg0426', 'pt0218', 'sm1515']\n",
            "['laa0240', 'ss1872', 'hn0139', 'lg0426', 'pt0218', 'sm1515']\n",
            "['laa0240', 'ss1872', 'hn0139', 'lg0426', 'pt0218', 'sm1515']\n",
            "['vk0222', 'mj0396', 'ap0975', 'hn0139', 'lg0426', 'pb0283']\n",
            "['vk0222', 'mj0396', 'ap0975', 'hn0139', 'lg0426', 'pb0283']\n",
            "['vk0222', 'mj0396', 'ap0975', 'hn0139', 'lg0426', 'pb0283']\n",
            "['vk0222', 'mj0396', 'ap0975', 'hn0139', 'lg0426', 'pb0283']\n",
            "['vk0222', 'mj0396', 'ap0975', 'hn0139', 'lg0426', 'pb0283']\n",
            "['vk0222', 'mj0396', 'ap0975', 'hn0139', 'lg0426', 'pb0283']\n",
            "['vk0222', 'mj0396', 'ap0975', 'hn0139', 'lg0426', 'pb0283']\n",
            "['vk0222', 'mj0396', 'ap0975', 'hn0139', 'lg0426', 'pb0283']\n",
            "['vk0222', 'mj0396', 'ap0975', 'hn0139', 'lg0426', 'pb0283']\n",
            "['vk0222', 'mj0396', 'ap0975', 'hn0139', 'lg0426', 'pb0283']\n",
            "['vk0222', 'mj0396', 'ap0975', 'hn0139', 'lg0426', 'pb0283']\n",
            "['vk0222', 'mj0396', 'ap0975', 'hn0139', 'lg0426', 'pb0283']\n",
            "['vk0222', 'mj0396', 'ap0975', 'hn0139', 'lg0426', 'pb0283']\n",
            "['vk0222', 'mj0396', 'ap0975', 'hn0139', 'lg0426', 'pb0283']\n",
            "['vk0222', 'mj0396', 'ap0975', 'hn0139', 'lg0426', 'pb0283']\n",
            "['vk0222', 'mj0396', 'ap0975', 'hn0139', 'lg0426', 'pb0283']\n",
            "['vk0222', 'mj0396', 'ap0975', 'hn0139', 'lg0426', 'pb0283']\n",
            "['vk0222', 'mj0396', 'ap0975', 'hn0139', 'lg0426', 'pb0283']\n",
            "['vk0222', 'mj0396', 'ap0975', 'hn0139', 'lg0426', 'pb0283']\n",
            "['vk0222', 'mj0396', 'ap0975', 'hn0139', 'lg0426', 'pb0283']\n",
            "['vk0222', 'mj0396', 'ap0975', 'hn0139', 'lg0426', 'pb0283']\n",
            "['vk0222', 'mj0396', 'ap0975', 'hn0139', 'lg0426', 'pb0283']\n",
            "['vk0222', 'mj0396', 'ap0975', 'hn0139', 'lg0426', 'pb0283']\n",
            "['vk0222', 'mj0396', 'ap0975', 'hn0139', 'lg0426', 'pb0283']\n",
            "['vk0222', 'mj0396', 'ap0975', 'hn0139', 'lg0426', 'pb0283']\n",
            "['vk0222', 'mj0396', 'ap0975', 'hn0139', 'lg0426', 'pb0283']\n",
            "['vk0222', 'mj0396', 'ap0975', 'hn0139', 'lg0426', 'pb0283']\n",
            "['vk0222', 'mj0396', 'ap0975', 'hn0139', 'lg0426', 'pb0283']\n",
            "['vk0222', 'mj0396', 'ap0975', 'hn0139', 'lg0426', 'pb0283']\n"
          ],
          "name": "stdout"
        }
      ]
    },
    {
      "cell_type": "code",
      "metadata": {
        "id": "JywQG1raKrY7",
        "colab_type": "code",
        "colab": {
          "base_uri": "https://localhost:8080/",
          "height": 520
        },
        "outputId": "170e22a4-3f91-4308-e86e-4c02e83a264a"
      },
      "source": [
        "# write your answer here\n",
        "import random\n",
        "def student_groups(studnet_list):\n",
        "  sample= random.sample(studnet_list, k=6)\n",
        "  for student in studnet_list:\n",
        "    if student not in sample:\n",
        "      print (sample)\n",
        "studnet_list = ['sa0753','laa0240','lba0043','pb0283','vmb0067','vcd0017','ag1121','lg0426','mj0396','ak0860','vk0222','vk0216', 'tpk0023','nk0327','mk0830','tbl0041','al0787','am1823','sm1515','km0738','hn0139','an0521','ap0975','dp1080', 'pk0292','vp0241','rp0477','hr0178','ps0501','ss1976','ss1872','ss1872','bs0490','pt0218','ry0104']\n",
        "student_groups(studnet_list)\n",
        "     "
      ],
      "execution_count": 37,
      "outputs": [
        {
          "output_type": "stream",
          "text": [
            "['hr0178', 'ss1976', 'lba0043', 'ap0975', 'al0787', 'tbl0041']\n",
            "['hr0178', 'ss1976', 'lba0043', 'ap0975', 'al0787', 'tbl0041']\n",
            "['hr0178', 'ss1976', 'lba0043', 'ap0975', 'al0787', 'tbl0041']\n",
            "['hr0178', 'ss1976', 'lba0043', 'ap0975', 'al0787', 'tbl0041']\n",
            "['hr0178', 'ss1976', 'lba0043', 'ap0975', 'al0787', 'tbl0041']\n",
            "['hr0178', 'ss1976', 'lba0043', 'ap0975', 'al0787', 'tbl0041']\n",
            "['hr0178', 'ss1976', 'lba0043', 'ap0975', 'al0787', 'tbl0041']\n",
            "['hr0178', 'ss1976', 'lba0043', 'ap0975', 'al0787', 'tbl0041']\n",
            "['hr0178', 'ss1976', 'lba0043', 'ap0975', 'al0787', 'tbl0041']\n",
            "['hr0178', 'ss1976', 'lba0043', 'ap0975', 'al0787', 'tbl0041']\n",
            "['hr0178', 'ss1976', 'lba0043', 'ap0975', 'al0787', 'tbl0041']\n",
            "['hr0178', 'ss1976', 'lba0043', 'ap0975', 'al0787', 'tbl0041']\n",
            "['hr0178', 'ss1976', 'lba0043', 'ap0975', 'al0787', 'tbl0041']\n",
            "['hr0178', 'ss1976', 'lba0043', 'ap0975', 'al0787', 'tbl0041']\n",
            "['hr0178', 'ss1976', 'lba0043', 'ap0975', 'al0787', 'tbl0041']\n",
            "['hr0178', 'ss1976', 'lba0043', 'ap0975', 'al0787', 'tbl0041']\n",
            "['hr0178', 'ss1976', 'lba0043', 'ap0975', 'al0787', 'tbl0041']\n",
            "['hr0178', 'ss1976', 'lba0043', 'ap0975', 'al0787', 'tbl0041']\n",
            "['hr0178', 'ss1976', 'lba0043', 'ap0975', 'al0787', 'tbl0041']\n",
            "['hr0178', 'ss1976', 'lba0043', 'ap0975', 'al0787', 'tbl0041']\n",
            "['hr0178', 'ss1976', 'lba0043', 'ap0975', 'al0787', 'tbl0041']\n",
            "['hr0178', 'ss1976', 'lba0043', 'ap0975', 'al0787', 'tbl0041']\n",
            "['hr0178', 'ss1976', 'lba0043', 'ap0975', 'al0787', 'tbl0041']\n",
            "['hr0178', 'ss1976', 'lba0043', 'ap0975', 'al0787', 'tbl0041']\n",
            "['hr0178', 'ss1976', 'lba0043', 'ap0975', 'al0787', 'tbl0041']\n",
            "['hr0178', 'ss1976', 'lba0043', 'ap0975', 'al0787', 'tbl0041']\n",
            "['hr0178', 'ss1976', 'lba0043', 'ap0975', 'al0787', 'tbl0041']\n",
            "['hr0178', 'ss1976', 'lba0043', 'ap0975', 'al0787', 'tbl0041']\n",
            "['hr0178', 'ss1976', 'lba0043', 'ap0975', 'al0787', 'tbl0041']\n"
          ],
          "name": "stdout"
        }
      ]
    }
  ]
}