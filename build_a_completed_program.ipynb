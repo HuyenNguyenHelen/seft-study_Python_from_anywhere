{
  "nbformat": 4,
  "nbformat_minor": 0,
  "metadata": {
    "colab": {
      "name": "Untitled21.ipynb",
      "provenance": [],
      "authorship_tag": "ABX9TyOXd0GuXcTrnoaudHeMBUGi",
      "include_colab_link": true
    },
    "kernelspec": {
      "name": "python3",
      "display_name": "Python 3"
    }
  },
  "cells": [
    {
      "cell_type": "markdown",
      "metadata": {
        "id": "view-in-github",
        "colab_type": "text"
      },
      "source": [
        "<a href=\"https://colab.research.google.com/github/HuyenNguyenHelen/seft-study_Python_from_anywhere/blob/master/build_a_completed_program.ipynb\" target=\"_parent\"><img src=\"https://colab.research.google.com/assets/colab-badge.svg\" alt=\"Open In Colab\"/></a>"
      ]
    },
    {
      "cell_type": "code",
      "metadata": {
        "id": "RZqcOrowfLF-",
        "colab_type": "code",
        "colab": {
          "base_uri": "https://localhost:8080/",
          "height": 282
        },
        "outputId": "dfe1f378-1765-49a4-ce2f-02cd934e2a5d"
      },
      "source": [
        "## Extract metadata :\\\\\n",
        "## Fix forbidden errors\n",
        "import ssl\n",
        "from bs4 import BeautifulSoup\n",
        "import urllib.request\n",
        "import requests\n",
        "\n",
        "ctx = ssl.create_default_context()\n",
        "ctx.check_hostname = False\n",
        "ctx.verify_mode = ssl.CERT_NONE\n",
        "\n",
        "\n",
        "f_id =urllib.request.urlopen(\"https://digital.library.unt.edu/search/?t=fulltext&t1=dc_title&t2=dc_description&t3=untl_agent&t4=dc_publisher&q5=%28information+science%29&t5=dc_subject&t6=dc_coverage&t7=dc_identifier&t8=page&sort=default&searchType=advanced&fq=untl_collection%3AUNTETD&fq=untl_decade%3A2010-2019&fq=str_degree_level%3ADoctoral\")\n",
        "webpage = f_id.read()\n",
        "soup = BeautifulSoup(webpage)\n",
        "#print(soup)\n",
        "id_list = []\n",
        "for i in range (1, 25):\n",
        "  for tag in soup.find_all('a', id=\"result-title-\"+str(i)):\n",
        "    id_list.append(tag.get(\"data-meta-id\"))\n",
        "print(id_list)\n",
        "\n",
        "parse_link_begin = \"https://digital.library.unt.edu/ark:/67531/\"\n",
        "parse_link_end = \"?q=information%20science\"\n",
        "f_link=[]\n",
        "for id in id_list:\n",
        "  f_link.append(parse_link_begin+id+parse_link_end)\n",
        "print(f_link)\n",
        "for link in f_link:\n",
        "  webpage = link.read()\n",
        "  soup = BeautifulSoup(webpage)\n",
        "  print(soup)\n",
        "#all_links = soup.find_all(\"a\")\n",
        "\n",
        "'''list_link = []\n",
        "for link in soup.select (\"a[href$='.pdf']\"):\n",
        "  list_link.append(link.get(\"href\"))\n",
        "for l in list_link:\n",
        "  response = requests.get(l, allow_redirects=True)\n",
        "with open('E:\\webscrapping\\hello.pdf', 'wb') as f:\n",
        "    f.write(response.content)'''"
      ],
      "execution_count": 35,
      "outputs": [
        {
          "output_type": "stream",
          "text": [
            "['metadc1248497', 'metadc1157518', 'metadc1157598', 'metadc30529', 'metadc271823', 'metadc984238', 'metadc955123', 'metadc984189', 'metadc1404618', 'metadc1404561', 'metadc984233', 'metadc955042', 'metadc1157586', 'metadc955091', 'metadc1248436', 'metadc1404510', 'metadc1404539', 'metadc1404565', 'metadc1404543', 'metadc849733', 'metadc407763', 'metadc849631', 'metadc1157649', 'metadc862737']\n",
            "['https://digital.library.unt.edu/ark:/67531/metadc1248497?q=information%20science', 'https://digital.library.unt.edu/ark:/67531/metadc1157518?q=information%20science', 'https://digital.library.unt.edu/ark:/67531/metadc1157598?q=information%20science', 'https://digital.library.unt.edu/ark:/67531/metadc30529?q=information%20science', 'https://digital.library.unt.edu/ark:/67531/metadc271823?q=information%20science', 'https://digital.library.unt.edu/ark:/67531/metadc984238?q=information%20science', 'https://digital.library.unt.edu/ark:/67531/metadc955123?q=information%20science', 'https://digital.library.unt.edu/ark:/67531/metadc984189?q=information%20science', 'https://digital.library.unt.edu/ark:/67531/metadc1404618?q=information%20science', 'https://digital.library.unt.edu/ark:/67531/metadc1404561?q=information%20science', 'https://digital.library.unt.edu/ark:/67531/metadc984233?q=information%20science', 'https://digital.library.unt.edu/ark:/67531/metadc955042?q=information%20science', 'https://digital.library.unt.edu/ark:/67531/metadc1157586?q=information%20science', 'https://digital.library.unt.edu/ark:/67531/metadc955091?q=information%20science', 'https://digital.library.unt.edu/ark:/67531/metadc1248436?q=information%20science', 'https://digital.library.unt.edu/ark:/67531/metadc1404510?q=information%20science', 'https://digital.library.unt.edu/ark:/67531/metadc1404539?q=information%20science', 'https://digital.library.unt.edu/ark:/67531/metadc1404565?q=information%20science', 'https://digital.library.unt.edu/ark:/67531/metadc1404543?q=information%20science', 'https://digital.library.unt.edu/ark:/67531/metadc849733?q=information%20science', 'https://digital.library.unt.edu/ark:/67531/metadc407763?q=information%20science', 'https://digital.library.unt.edu/ark:/67531/metadc849631?q=information%20science', 'https://digital.library.unt.edu/ark:/67531/metadc1157649?q=information%20science', 'https://digital.library.unt.edu/ark:/67531/metadc862737?q=information%20science']\n"
          ],
          "name": "stdout"
        },
        {
          "output_type": "error",
          "ename": "AttributeError",
          "evalue": "ignored",
          "traceback": [
            "\u001b[0;31m---------------------------------------------------------------------------\u001b[0m",
            "\u001b[0;31mAttributeError\u001b[0m                            Traceback (most recent call last)",
            "\u001b[0;32m<ipython-input-35-4db5a8357e74>\u001b[0m in \u001b[0;36m<module>\u001b[0;34m()\u001b[0m\n\u001b[1;32m     26\u001b[0m \u001b[0mprint\u001b[0m\u001b[0;34m(\u001b[0m\u001b[0mf_link\u001b[0m\u001b[0;34m)\u001b[0m\u001b[0;34m\u001b[0m\u001b[0;34m\u001b[0m\u001b[0m\n\u001b[1;32m     27\u001b[0m \u001b[0;32mfor\u001b[0m \u001b[0mlink\u001b[0m \u001b[0;32min\u001b[0m \u001b[0mf_link\u001b[0m\u001b[0;34m:\u001b[0m\u001b[0;34m\u001b[0m\u001b[0;34m\u001b[0m\u001b[0m\n\u001b[0;32m---> 28\u001b[0;31m   \u001b[0mwebpage\u001b[0m \u001b[0;34m=\u001b[0m \u001b[0mlink\u001b[0m\u001b[0;34m.\u001b[0m\u001b[0mread\u001b[0m\u001b[0;34m(\u001b[0m\u001b[0;34m)\u001b[0m\u001b[0;34m\u001b[0m\u001b[0;34m\u001b[0m\u001b[0m\n\u001b[0m\u001b[1;32m     29\u001b[0m   \u001b[0msoup\u001b[0m \u001b[0;34m=\u001b[0m \u001b[0mBeautifulSoup\u001b[0m\u001b[0;34m(\u001b[0m\u001b[0mwebpage\u001b[0m\u001b[0;34m)\u001b[0m\u001b[0;34m\u001b[0m\u001b[0;34m\u001b[0m\u001b[0m\n\u001b[1;32m     30\u001b[0m   \u001b[0mprint\u001b[0m\u001b[0;34m(\u001b[0m\u001b[0msoup\u001b[0m\u001b[0;34m)\u001b[0m\u001b[0;34m\u001b[0m\u001b[0;34m\u001b[0m\u001b[0m\n",
            "\u001b[0;31mAttributeError\u001b[0m: 'str' object has no attribute 'read'"
          ]
        }
      ]
    },
    {
      "cell_type": "code",
      "metadata": {
        "id": "QH7JSIr6hoFd",
        "colab_type": "code",
        "colab": {
          "base_uri": "https://localhost:8080/",
          "height": 83
        },
        "outputId": "087316de-d2fa-4d0d-87a0-84279057d6b0"
      },
      "source": [
        "from urllib.parse import urlparse, urljoin\n",
        "url_parse = urlparse(\"https://digital.library.unt.edu/ark:/67531/metadc680861/?q=information%20science\")\n",
        "print(url_parse)\n",
        "print(url_parse[2])\n",
        "print(type(url_parse[2]))\n",
        "url_parse._replace(path='/ark:/67531/metadc12345/')\n",
        "urllib.parse.urlunsplit(url_parse)\n",
        "#urljoin(str(url_parse))\n",
        "#print(url_join)\n",
        "print(type(url_parse))"
      ],
      "execution_count": 27,
      "outputs": [
        {
          "output_type": "stream",
          "text": [
            "ParseResult(scheme='https', netloc='digital.library.unt.edu', path='/ark:/67531/metadc680861/', params='', query='q=information%20science', fragment='')\n",
            "/ark:/67531/metadc680861/\n",
            "<class 'str'>\n",
            "<class 'urllib.parse.ParseResult'>\n"
          ],
          "name": "stdout"
        }
      ]
    }
  ]
}