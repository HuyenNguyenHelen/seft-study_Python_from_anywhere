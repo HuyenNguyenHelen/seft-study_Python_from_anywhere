{
  "nbformat": 4,
  "nbformat_minor": 0,
  "metadata": {
    "colab": {
      "name": "Untitled20.ipynb",
      "provenance": [],
      "collapsed_sections": [],
      "authorship_tag": "ABX9TyN6VgzciUkcicIUw/4jzdzP",
      "include_colab_link": true
    },
    "kernelspec": {
      "name": "python3",
      "display_name": "Python 3"
    }
  },
  "cells": [
    {
      "cell_type": "markdown",
      "metadata": {
        "id": "view-in-github",
        "colab_type": "text"
      },
      "source": [
        "<a href=\"https://colab.research.google.com/github/HuyenNguyenHelen/seft-study_Python_from_anywhere/blob/master/collect_data_working.ipynb\" target=\"_parent\"><img src=\"https://colab.research.google.com/assets/colab-badge.svg\" alt=\"Open In Colab\"/></a>"
      ]
    },
    {
      "cell_type": "markdown",
      "metadata": {
        "id": "M50rEq6oJjEj",
        "colab_type": "text"
      },
      "source": [
        "# Web scrapping: download file pdf"
      ]
    },
    {
      "cell_type": "code",
      "metadata": {
        "id": "7bXt5gKzTOLP",
        "colab_type": "code",
        "outputId": "4b1dd797-5155-4e0b-cb09-9a0eeac4e6d0",
        "colab": {
          "base_uri": "https://localhost:8080/",
          "height": 53
        }
      },
      "source": [
        "# Bec! Chay code nay nha, lay id do!\n",
        "import ssl\n",
        "from bs4 import BeautifulSoup\n",
        "import urllib.request\n",
        "import requests\n",
        "\n",
        "ctx = ssl.create_default_context()\n",
        "ctx.check_hostname = False\n",
        "ctx.verify_mode = ssl.CERT_NONE\n",
        "\n",
        "f=urllib.request.urlopen(\"https://digital.library.unt.edu/search/?t=fulltext&t1=dc_title&t2=dc_description&t3=untl_agent&t4=dc_publisher&q5=%28information+science%29&t5=dc_subject&t6=dc_coverage&t7=dc_identifier&t8=page&sort=default&searchType=advanced&fq=untl_collection%3AUNTETD&fq=untl_decade%3A2010-2019&fq=str_degree_level%3ADoctoral\")\n",
        "webpage = f.read()\n",
        "soup = BeautifulSoup(webpage)\n",
        "#print(soup)\n",
        "id_list = []\n",
        "for i in range (1, 25):\n",
        "  for tag in soup.find_all('a', id=\"result-title-\"+str(i)):\n",
        "    id_list.append(tag.get(\"data-meta-id\"))\n",
        "print(id_list)\n"
      ],
      "execution_count": 6,
      "outputs": [
        {
          "output_type": "stream",
          "text": [
            "['metadc1248497', 'metadc1157518', 'metadc1157598', 'metadc30529', 'metadc271823', 'metadc984238', 'metadc955123', 'metadc984189', 'metadc1404618', 'metadc1404561', 'metadc984233', 'metadc955042', 'metadc1157586', 'metadc955091', 'metadc1248436', 'metadc1404510', 'metadc1404539', 'metadc1404565', 'metadc1404543', 'metadc849733', 'metadc407763', 'metadc849631', 'metadc1157649', 'metadc862737']\n"
          ],
          "name": "stdout"
        }
      ]
    },
    {
      "cell_type": "code",
      "metadata": {
        "id": "GB49OL1JS7Lk",
        "colab_type": "code",
        "colab": {}
      },
      "source": [
        "https://digital.library.unt.edu/search/?t=fulltext&t1=dc_title&t2=dc_description&t3=untl_agent&t4=dc_publisher&q5=%28information+science%29&t5=dc_subject&t6=dc_coverage&t7=dc_identifier&t8=page&sort=default&searchType=advanced&fq=untl_collection%3AUNTETD&fq=untl_decade%3A2010-2019&fq=str_degree_level%3ADoctoral"
      ],
      "execution_count": 0,
      "outputs": []
    }
  ]
}