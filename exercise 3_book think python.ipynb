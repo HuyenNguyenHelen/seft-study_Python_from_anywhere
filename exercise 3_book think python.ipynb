{
 "cells": [
  {
   "cell_type": "code",
   "execution_count": 15,
   "metadata": {},
   "outputs": [
    {
     "name": "stdout",
     "output_type": "stream",
     "text": [
      "hihi\n",
      "a\n",
      "c\n",
      "e\n",
      "f\n",
      "h\n",
      "l\n",
      "o\n"
     ]
    }
   ],
   "source": [
    "#p. 101/ ex 9-4\n",
    "def use_only (word, letter):\n",
    "    if letter not in word:\n",
    "        return True \n",
    "    return False\n",
    "use_only (\"cantin\", \"l\")\n",
    "a = [\"a\",\"c\",\"e\",\"f\",\"h\",\"l\",\"o\"]\n",
    "b= input()\n",
    "for item in a:\n",
    "    if use_only (a,b) == True:\n",
    "        print(item)\n",
    "\n",
    "\n",
    "    "
   ]
  },
  {
   "cell_type": "code",
   "execution_count": 7,
   "metadata": {},
   "outputs": [
    {
     "name": "stdout",
     "output_type": "stream",
     "text": [
      "33.07383423103621\n"
     ]
    }
   ],
   "source": [
    "#p101/ ex 9-2\n",
    "def has_no_e (word):\n",
    "    if \"e\" not in word:\n",
    "        return True\n",
    "    return False\n",
    "my_file = open (\"words.txt\")\n",
    "count1=0\n",
    "for word in my_file:\n",
    "    if has_no_e (word)== True:\n",
    "        count1+=1\n",
    "my_file = open (\"words.txt\")\n",
    "count_all=0\n",
    "for line in my_file:\n",
    "    word=line.strip()\n",
    "    count_all+=1\n",
    "percentage=count1/count_all*100\n",
    "print(percentage)\n"
   ]
  },
  {
   "cell_type": "code",
   "execution_count": 44,
   "metadata": {},
   "outputs": [
    {
     "data": {
      "text/plain": [
       "{}"
      ]
     },
     "execution_count": 44,
     "metadata": {},
     "output_type": "execute_result"
    }
   ],
   "source": [
    "# DICTIONARY \n",
    "# Ex 11-1 /P.137\n",
    "my_fin=open(\"words.txt\", \"r\")\n",
    "for line in my_fin:\n",
    "    word=line.strip()\n",
    "my_dict=dict()\n",
    "for item in word:\n",
    "    for key in my_dict:\n",
    "        item=[key]\n",
    "my_dict\n",
    "    \n"
   ]
  },
  {
   "cell_type": "code",
   "execution_count": 67,
   "metadata": {},
   "outputs": [
    {
     "data": {
      "text/plain": [
       "{'Anna': ['a'], 'Beta': ['b']}"
      ]
     },
     "execution_count": 67,
     "metadata": {},
     "output_type": "execute_result"
    }
   ],
   "source": [
    "def invert_dict (d):\n",
    "    inverse=dict()\n",
    "    for key in d:\n",
    "        val=d[key]\n",
    "        if val not in inverse:\n",
    "            inverse[val]=[key]\n",
    "        else:\n",
    "            inverse.append(key)\n",
    "    return inverse\n",
    "d={\"a\": \"Anna\", \"b\": \"Beta\"}\n",
    "invert_dict(d)"
   ]
  },
  {
   "cell_type": "code",
   "execution_count": 55,
   "metadata": {},
   "outputs": [
    {
     "name": "stdout",
     "output_type": "stream",
     "text": [
      "{'a': 'Anna', 'b': 'Beta'}\n",
      "Anna\n",
      "dict_values(['Anna', 'Beta'])\n"
     ]
    }
   ],
   "source": [
    "d={\"a\": \"Anna\", \"b\": \"Beta\"}\n",
    "print(d)\n",
    "print(d[\"a\"])\n",
    "val=d.values()\n",
    "print(val)"
   ]
  }
 ],
 "metadata": {
  "kernelspec": {
   "display_name": "Python 3",
   "language": "python",
   "name": "python3"
  },
  "language_info": {
   "codemirror_mode": {
    "name": "ipython",
    "version": 3
   },
   "file_extension": ".py",
   "mimetype": "text/x-python",
   "name": "python",
   "nbconvert_exporter": "python",
   "pygments_lexer": "ipython3",
   "version": "3.7.4"
  }
 },
 "nbformat": 4,
 "nbformat_minor": 2
}
