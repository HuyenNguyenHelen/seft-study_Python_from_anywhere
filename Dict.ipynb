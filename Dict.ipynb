{
 "cells": [
  {
   "cell_type": "code",
   "execution_count": 3,
   "metadata": {},
   "outputs": [
    {
     "name": "stdout",
     "output_type": "stream",
     "text": [
      "{'name': 'A', 'age': 25, 'gender': 'F'}\n",
      "<class 'dict'>\n"
     ]
    }
   ],
   "source": [
    "# Dictionary, have two parts: key and value\n",
    "mydict={\n",
    "    \"name\": \"A\",\n",
    "    \"age\": 25,\n",
    "    \"gender\": \"F\"\n",
    "}\n",
    "print(mydict)\n",
    "print(type(mydict))"
   ]
  },
  {
   "cell_type": "code",
   "execution_count": 9,
   "metadata": {},
   "outputs": [
    {
     "name": "stdout",
     "output_type": "stream",
     "text": [
      "25\n",
      "A\n"
     ]
    }
   ],
   "source": [
    "#Access a value in dict with key [] or with gets() method\n",
    "mydict={\n",
    "    \"name\": \"A\",\n",
    "    \"age\": 25,\n",
    "    \"gender\": \"F\"\n",
    "}\n",
    "print(mydict[\"age\"])\n",
    "print(mydict.get(\"name\"))"
   ]
  },
  {
   "cell_type": "code",
   "execution_count": 11,
   "metadata": {},
   "outputs": [
    {
     "name": "stdout",
     "output_type": "stream",
     "text": [
      "{'name': 'A', 'age': 25, 'gender': 'M'}\n"
     ]
    }
   ],
   "source": [
    "# change a value in dict\n",
    "mydict={\n",
    "    \"name\": \"A\",\n",
    "    \"age\": 25,\n",
    "    \"gender\": \"F\"\n",
    "}\n",
    "mydict[\"gender\"]=\"M\"\n",
    "print(mydict)\n"
   ]
  },
  {
   "cell_type": "code",
   "execution_count": 16,
   "metadata": {},
   "outputs": [
    {
     "name": "stdout",
     "output_type": "stream",
     "text": [
      "{'name': 'A', 'age': 25, 'gender': 'F'}\n",
      "{'name': 'A', 'age': 25, 'gender': 'F'}\n",
      "{'name': 'A', 'age': 25, 'gender': 'F'}\n"
     ]
    }
   ],
   "source": [
    "# Loop in dict\n",
    "# print all key names in dict\n",
    "mydict={\n",
    "    \"name\": \"A\",\n",
    "    \"age\": 25,\n",
    "    \"gender\": \"F\"\n",
    "}\n",
    "for x in mydict:\n",
    "    x=\"name\"\n",
    "    print(mydict)"
   ]
  },
  {
   "cell_type": "code",
   "execution_count": 1,
   "metadata": {},
   "outputs": [
    {
     "name": "stdout",
     "output_type": "stream",
     "text": [
      "A\n",
      "25\n",
      "F\n"
     ]
    }
   ],
   "source": [
    "# Loop in dict\n",
    "# print all VALUES in dict with print ([x])\n",
    "mydict={\n",
    "    \"name\": \"A\",\n",
    "    \"age\": 25,\n",
    "    \"gender\": \"F\"\n",
    "}\n",
    "for x in mydict:\n",
    "    print (mydict[x])"
   ]
  },
  {
   "cell_type": "code",
   "execution_count": 12,
   "metadata": {},
   "outputs": [
    {
     "name": "stdout",
     "output_type": "stream",
     "text": [
      "A\n",
      "25\n",
      "F\n"
     ]
    }
   ],
   "source": [
    "# Loop in dict\n",
    "# print all VALUES in dict with \"\".values ()\" method\n",
    "mydict={\n",
    "    \"name\": \"A\",\n",
    "    \"age\": 25,\n",
    "    \"gender\": \"F\"\n",
    "}\n",
    "for x in mydict.values():\n",
    "    print(x)"
   ]
  },
  {
   "cell_type": "code",
   "execution_count": 13,
   "metadata": {},
   "outputs": [
    {
     "name": "stdout",
     "output_type": "stream",
     "text": [
      "name A\n",
      "age 25\n",
      "gender F\n"
     ]
    }
   ],
   "source": [
    "# Loop in dict\n",
    "# Loop both key and value in dict by using \"items()\" method\n",
    "mydict={\n",
    "    \"name\": \"A\",\n",
    "    \"age\": 25,\n",
    "    \"gender\": \"F\"\n",
    "}\n",
    "for x, y in mydict.items():\n",
    "    print(x,y)\n",
    "    "
   ]
  },
  {
   "cell_type": "code",
   "execution_count": 24,
   "metadata": {},
   "outputs": [
    {
     "name": "stdout",
     "output_type": "stream",
     "text": [
      "yes, it is in mydict\n"
     ]
    }
   ],
   "source": [
    "#check if a KEY (not a value) in dict exist by using If...in....\n",
    "mydict={\n",
    "    \"name\": \"A\",\n",
    "    \"age\": 25,\n",
    "    \"gender\": \"F\"\n",
    "}\n",
    "if \"name\" in mydict:\n",
    "    print(\"yes, it is in mydict\")\n"
   ]
  },
  {
   "cell_type": "code",
   "execution_count": 25,
   "metadata": {},
   "outputs": [
    {
     "name": "stdout",
     "output_type": "stream",
     "text": [
      "3\n"
     ]
    }
   ],
   "source": [
    "# dict length\n",
    "mydict={\n",
    "    \"name\": \"A\",\n",
    "    \"age\": 25,\n",
    "    \"gender\": \"F\"\n",
    "}\n",
    "print(len(mydict))"
   ]
  },
  {
   "cell_type": "code",
   "execution_count": 27,
   "metadata": {},
   "outputs": [
    {
     "name": "stdout",
     "output_type": "stream",
     "text": [
      "{'name': 'A', 'age': 25, 'gender': 'F', 'hobbies': 'jogging'}\n"
     ]
    }
   ],
   "source": [
    "#Adding Items\n",
    "#Adding an item to the dictionary is done by using a new index key and assigning a value to it:\n",
    "mydict={\n",
    "    \"name\": \"A\",\n",
    "    \"age\": 25,\n",
    "    \"gender\": \"F\"\n",
    "}\n",
    "mydict[\"hobbies\"]=\"jogging\"\n",
    "print(mydict)"
   ]
  },
  {
   "cell_type": "code",
   "execution_count": 28,
   "metadata": {},
   "outputs": [
    {
     "name": "stdout",
     "output_type": "stream",
     "text": [
      "A\n"
     ]
    }
   ],
   "source": [
    "# take out a specific key with  \"pop()\" method \n",
    "mydict={\n",
    "    \"name\": \"A\",\n",
    "    \"age\": 25,\n",
    "    \"gender\": \"F\"\n",
    "}\n",
    "print(mydict.pop(\"name\"))"
   ]
  },
  {
   "cell_type": "code",
   "execution_count": 31,
   "metadata": {},
   "outputs": [
    {
     "name": "stdout",
     "output_type": "stream",
     "text": [
      "{'age': 25, 'gender': 'F'}\n"
     ]
    }
   ],
   "source": [
    "# remove item in dict by using \"pop()\" method to remove a specific key\n",
    "mydict={\n",
    "    \"name\": \"A\",\n",
    "    \"age\": 25,\n",
    "    \"gender\": \"F\"\n",
    "}\n",
    "mydict.pop(\"name\")\n",
    "print(mydict)"
   ]
  },
  {
   "cell_type": "code",
   "execution_count": 29,
   "metadata": {},
   "outputs": [
    {
     "name": "stdout",
     "output_type": "stream",
     "text": [
      "{'brand': 'Ford', 'year': 1964}\n"
     ]
    }
   ],
   "source": [
    "#Example\n",
    "thisdict = {\n",
    "  \"brand\": \"Ford\",\n",
    "  \"model\": \"Mustang\",\n",
    "  \"year\": 1964\n",
    "}\n",
    "thisdict.pop(\"model\")\n",
    "print(thisdict)"
   ]
  },
  {
   "cell_type": "code",
   "execution_count": 34,
   "metadata": {},
   "outputs": [
    {
     "name": "stdout",
     "output_type": "stream",
     "text": [
      "{'name': 'A', 'age': 25}\n"
     ]
    }
   ],
   "source": [
    "# REMOVE the last item in dict with method .popitem()\n",
    "mydict={\n",
    "    \"name\": \"A\",\n",
    "    \"age\": 25,\n",
    "    \"gender\": \"F\"\n",
    "}\n",
    "mydict.popitem()\n",
    "print(mydict)"
   ]
  },
  {
   "cell_type": "code",
   "execution_count": 35,
   "metadata": {},
   "outputs": [
    {
     "name": "stdout",
     "output_type": "stream",
     "text": [
      "{'age': 25, 'gender': 'F'}\n"
     ]
    }
   ],
   "source": [
    "# REMOVE a specific item in dict with DEL keyword\n",
    "mydict={\n",
    "    \"name\": \"A\",\n",
    "    \"age\": 25,\n",
    "    \"gender\": \"F\"\n",
    "}\n",
    "del mydict[\"name\"]\n",
    "print(mydict)"
   ]
  },
  {
   "cell_type": "code",
   "execution_count": 36,
   "metadata": {},
   "outputs": [
    {
     "name": "stdout",
     "output_type": "stream",
     "text": [
      "{}\n"
     ]
    }
   ],
   "source": [
    "#Using .clear() method to empty the dict\n",
    "mydict={\n",
    "    \"name\": \"A\",\n",
    "    \"age\": 25,\n",
    "    \"gender\": \"F\"\n",
    "}\n",
    "mydict.clear()\n",
    "print(mydict)"
   ]
  },
  {
   "cell_type": "code",
   "execution_count": 37,
   "metadata": {},
   "outputs": [
    {
     "name": "stdout",
     "output_type": "stream",
     "text": [
      "{'name': 'A', 'age': 25, 'gender': 'F'}\n"
     ]
    }
   ],
   "source": [
    "# copy a dict with .copy() method\n",
    "mydict={\n",
    "    \"name\": \"A\",\n",
    "    \"age\": 25,\n",
    "    \"gender\": \"F\"\n",
    "}\n",
    "yourdict=mydict.copy()\n",
    "print(yourdict)"
   ]
  },
  {
   "cell_type": "code",
   "execution_count": 38,
   "metadata": {},
   "outputs": [
    {
     "name": "stdout",
     "output_type": "stream",
     "text": [
      "{'name': 'A', 'age': 25, 'gender': 'F'}\n"
     ]
    }
   ],
   "source": [
    "# copy a dict with built in \"dict()\"\" method\n",
    "mydict={\n",
    "    \"name\": \"A\",\n",
    "    \"age\": 25,\n",
    "    \"gender\": \"F\"\n",
    "}\n",
    "yourdict=dict(mydict)\n",
    "print(yourdict)"
   ]
  },
  {
   "cell_type": "code",
   "execution_count": 40,
   "metadata": {},
   "outputs": [
    {
     "name": "stdout",
     "output_type": "stream",
     "text": [
      "{'father': {'name': 'many', 'age': 60, 'hobbies': 'reading'}, 'mother': {'name': 'fewy', 'age': 40, 'hobbies': 'cooking'}, 'child1': {'name': 'tomy', 'age': 20, 'hobbies': 'hiking'}, 'child2': {'name': 'lily', 'age': 10, 'hobbies': 'eating'}}\n"
     ]
    }
   ],
   "source": [
    "#Nested Dictionaries\n",
    "myfamily={\n",
    "    \"father\":{\n",
    "        \"name\":\"many\",\n",
    "        \"age\":60,\n",
    "        \"hobbies\":\"reading\"\n",
    "    },\n",
    "    \"mother\":{\n",
    "        \"name\":\"fewy\",\n",
    "        \"age\":40,\n",
    "        \"hobbies\":\"cooking\"\n",
    "    },\n",
    "    \"child1\":{\n",
    "        \"name\":\"tomy\",\n",
    "        \"age\":20,\n",
    "        \"hobbies\":\"hiking\"\n",
    "    },\n",
    "    \"child2\":{\n",
    "        \"name\":\"lily\",\n",
    "        \"age\":10,\n",
    "        \"hobbies\":\"eating\"\n",
    "    }\n",
    "         }\n",
    "print(myfamily)"
   ]
  },
  {
   "cell_type": "code",
   "execution_count": 42,
   "metadata": {},
   "outputs": [
    {
     "name": "stdout",
     "output_type": "stream",
     "text": [
      "{'child1': {'name': 'Emil', 'year': 2004}, 'child2': {'name': 'Tobias', 'year': 2007}, 'child3': {'name': 'Linus', 'year': 2011}}\n"
     ]
    }
   ],
   "source": [
    "#Nested Dictionaries\n",
    "child1 = {\n",
    "  \"name\" : \"Emil\",\n",
    "  \"year\" : 2004\n",
    "}\n",
    "child2 = {\n",
    "  \"name\" : \"Tobias\",\n",
    "  \"year\" : 2007\n",
    "}\n",
    "child3 = {\n",
    "  \"name\" : \"Linus\",\n",
    "  \"year\" : 2011\n",
    "}\n",
    "\n",
    "myfamily = {\n",
    "  \"child1\" : child1,\n",
    "  \"child2\" : child2,\n",
    "  \"child3\" : child3\n",
    "}\n",
    "print(myfamily)"
   ]
  },
  {
   "cell_type": "code",
   "execution_count": 44,
   "metadata": {},
   "outputs": [
    {
     "name": "stdout",
     "output_type": "stream",
     "text": [
      "{'name': 'Helen', 'age': 25, 'fvrcolor': 'yellow'}\n",
      "<class 'dict'>\n"
     ]
    }
   ],
   "source": [
    "# construct a dict with  dict() Constructor\n",
    "mydict=dict(name=\"Helen\", age=25, fvrcolor=\"yellow\")\n",
    "print(mydict)\n",
    "print(type(mydict))"
   ]
  },
  {
   "cell_type": "code",
   "execution_count": 47,
   "metadata": {},
   "outputs": [
    {
     "name": "stdout",
     "output_type": "stream",
     "text": [
      "{'name': 'Helen', 'age': 25, 'fvrcolor': 'yellow'}\n"
     ]
    }
   ],
   "source": [
    "# construct a dict with keys (from two tuples), using: \".fromkeys(key,value)\" method\n",
    "a=(\"name\", \"age\", \"fvrcolor\")\n",
    "b=(\"Helen\", 25, \"yellow\")\n",
    "mydict.fromkeys(a,b)\n",
    "print(mydict)"
   ]
  },
  {
   "cell_type": "code",
   "execution_count": 52,
   "metadata": {},
   "outputs": [
    {
     "name": "stdout",
     "output_type": "stream",
     "text": [
      "{'father': {'name': 'many', 'age': 60, 'hobbies': 'reading'}, 'mother': {'name': 'fewy', 'age': 40, 'hobbies': 'cooking'}, 'child1': {'name': 'tomy', 'age': 20, 'hobbies': 'hiking'}, 'child2': {'name': 'lily', 'age': 10, 'hobbies': 'eating'}, 'child3': {'name': 'tomy', 'age': 20, 'hobbies': 'hiking'}, 'child4': {'name': 'lily', 'age': 10, 'hobbies': 'eating'}}\n",
      "dict_values([{'name': 'many', 'age': 60, 'hobbies': 'reading'}, {'name': 'fewy', 'age': 40, 'hobbies': 'cooking'}, {'name': 'tomy', 'age': 20, 'hobbies': 'hiking'}, {'name': 'lily', 'age': 10, 'hobbies': 'eating'}, {'name': 'tomy', 'age': 20, 'hobbies': 'hiking'}, {'name': 'lily', 'age': 10, 'hobbies': 'eating'}])\n"
     ]
    }
   ],
   "source": [
    "myfamily={\n",
    "    \"father\":{\n",
    "        \"name\":\"many\",\n",
    "        \"age\":60,\n",
    "        \"hobbies\":\"reading\"\n",
    "    },\n",
    "    \"mother\":{\n",
    "        \"name\":\"fewy\",\n",
    "        \"age\":40,\n",
    "        \"hobbies\":\"cooking\"\n",
    "    },\n",
    "    \"child1\":{\n",
    "        \"name\":\"tomy\",\n",
    "        \"age\":20,\n",
    "        \"hobbies\":\"hiking\"\n",
    "    },\n",
    "    \"child2\":{\n",
    "        \"name\":\"lily\",\n",
    "        \"age\":10,\n",
    "        \"hobbies\":\"eating\"\n",
    "    }\n",
    "         }\n",
    "myfamily.update({\"child3\":{\n",
    "        \"name\":\"tomy\",\n",
    "        \"age\":20,\n",
    "        \"hobbies\":\"hiking\"\n",
    "    },\n",
    "    \"child4\":{\n",
    "        \"name\":\"lily\",\n",
    "        \"age\":10,\n",
    "        \"hobbies\":\"eating\"\n",
    "    }\n",
    "                })\n",
    "            \n",
    "print(myfamily)\n",
    "print(myfamily.values())"
   ]
  }
 ],
 "metadata": {
  "kernelspec": {
   "display_name": "Python 3",
   "language": "python",
   "name": "python3"
  },
  "language_info": {
   "codemirror_mode": {
    "name": "ipython",
    "version": 3
   },
   "file_extension": ".py",
   "mimetype": "text/x-python",
   "name": "python",
   "nbconvert_exporter": "python",
   "pygments_lexer": "ipython3",
   "version": "3.7.4"
  }
 },
 "nbformat": 4,
 "nbformat_minor": 2
}
