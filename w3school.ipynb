{
  "nbformat": 4,
  "nbformat_minor": 0,
  "metadata": {
    "colab": {
      "name": "w3school.ipynb",
      "provenance": [],
      "include_colab_link": true
    },
    "kernelspec": {
      "name": "python3",
      "display_name": "Python 3"
    }
  },
  "cells": [
    {
      "cell_type": "markdown",
      "metadata": {
        "id": "view-in-github",
        "colab_type": "text"
      },
      "source": [
        "<a href=\"https://colab.research.google.com/github/HuyenNguyenHelen/seft-study_Python_from_anywhere/blob/master/w3school.ipynb\" target=\"_parent\"><img src=\"https://colab.research.google.com/assets/colab-badge.svg\" alt=\"Open In Colab\"/></a>"
      ]
    },
    {
      "cell_type": "code",
      "metadata": {
        "id": "awDc6SB8Aud1",
        "colab_type": "code",
        "outputId": "95e476ea-ef2b-4eb6-9fde-43596a77de18",
        "colab": {
          "base_uri": "https://localhost:8080/",
          "height": 52
        }
      },
      "source": [
        "#create a class with property x\n",
        "class my_class:\n",
        "  x=5\n",
        "  print(my_class)\n",
        "  p1=my_class()\n",
        "  print(p1.x)"
      ],
      "execution_count": 0,
      "outputs": [
        {
          "output_type": "stream",
          "text": [
            "<class '__main__.my_class'>\n",
            "5\n"
          ],
          "name": "stdout"
        }
      ]
    },
    {
      "cell_type": "markdown",
      "metadata": {
        "id": "6KX3_VdpG3xz",
        "colab_type": "text"
      },
      "source": [
        "Built-in __init___() function\n",
        "All classes have the name called ___init___(), which is used to assign value to object property "
      ]
    },
    {
      "cell_type": "code",
      "metadata": {
        "id": "X6n42VuKG3Cy",
        "colab_type": "code",
        "outputId": "52de400e-b592-4c29-95ca-0c9f4f582e1a",
        "colab": {
          "base_uri": "https://localhost:8080/",
          "height": 52
        }
      },
      "source": [
        "class Person:\n",
        "  def __init__(self, name, age):\n",
        "    self.name=name\n",
        "    self.age=age\n",
        "\n",
        "p1=Person(\"Johny\",25)\n",
        "print(p1.name)\n",
        "print(p1.age)"
      ],
      "execution_count": 0,
      "outputs": [
        {
          "output_type": "stream",
          "text": [
            "Johny\n",
            "25\n"
          ],
          "name": "stdout"
        }
      ]
    },
    {
      "cell_type": "code",
      "metadata": {
        "id": "dbRA6a4zKHjh",
        "colab_type": "code",
        "outputId": "e59190d7-78f5-436d-b3d2-19449e83ec64",
        "colab": {
          "base_uri": "https://localhost:8080/",
          "height": 87
        }
      },
      "source": [
        "# object method\n",
        "class Person:\n",
        "  def __init__(self, name, age):\n",
        "    self.name=name\n",
        "    self.age=age\n",
        "  def myfunct(self):\n",
        "    print(\"Hello! My name is\\n\" + self.name)\n",
        "p2=Person(\"Tommy\",32)\n",
        "p2.myfunct()\n",
        "p3=Person(\"Helen\",29)\n",
        "p3.myfunct()\n"
      ],
      "execution_count": 0,
      "outputs": [
        {
          "output_type": "stream",
          "text": [
            "Hello! My name is\n",
            "Tommy\n",
            "Hello! My name is\n",
            "Helen\n"
          ],
          "name": "stdout"
        }
      ]
    },
    {
      "cell_type": "code",
      "metadata": {
        "id": "A5NDWvhxOwZq",
        "colab_type": "code",
        "outputId": "42c4933b-f656-40e5-ef9b-949dd862931d",
        "colab": {
          "base_uri": "https://localhost:8080/",
          "height": 35
        }
      },
      "source": [
        "# I can have any names instead of self, but it must be the first, the defined function can take any name\n",
        "class Person:\n",
        "  def __init__(mysillyobject, name, age):\n",
        "    mysillyobject.name = name\n",
        "    mysillyobject.age = age\n",
        "\n",
        "  def myfunc(mysillyobject):\n",
        "    print(\"Hello my name is \" + mysillyobject.name)\n",
        "\n",
        "p1 = Person(\"John\", 36)\n",
        "p1.myfunc()"
      ],
      "execution_count": 0,
      "outputs": [
        {
          "output_type": "stream",
          "text": [
            "Hello my name is John\n"
          ],
          "name": "stdout"
        }
      ]
    },
    {
      "cell_type": "code",
      "metadata": {
        "id": "PV8GCNmdQ6ro",
        "colab_type": "code",
        "outputId": "c42cc56b-e5c9-4024-d7e6-dfe68cc9ebce",
        "colab": {
          "base_uri": "https://localhost:8080/",
          "height": 52
        }
      },
      "source": [
        "# Modify object\n",
        "p1.age=20\n",
        "p1.name=\"Birdy\"\n",
        "p1.myfunc()\n",
        "print(p1.age)"
      ],
      "execution_count": 0,
      "outputs": [
        {
          "output_type": "stream",
          "text": [
            "Hello my name is Birdy\n",
            "20\n"
          ],
          "name": "stdout"
        }
      ]
    },
    {
      "cell_type": "code",
      "metadata": {
        "id": "gOolEOuISEhr",
        "colab_type": "code",
        "outputId": "026d742b-35af-49e3-9212-419095827976",
        "colab": {
          "base_uri": "https://localhost:8080/",
          "height": 201
        }
      },
      "source": [
        "# delete objects and delete object properties\n",
        "del p1.age\n",
        "del p1\n",
        "\n"
      ],
      "execution_count": 0,
      "outputs": [
        {
          "output_type": "error",
          "ename": "AttributeError",
          "evalue": "ignored",
          "traceback": [
            "\u001b[0;31m---------------------------------------------------------------------------\u001b[0m",
            "\u001b[0;31mAttributeError\u001b[0m                            Traceback (most recent call last)",
            "\u001b[0;32m<ipython-input-32-018dc39c86a0>\u001b[0m in \u001b[0;36m<module>\u001b[0;34m()\u001b[0m\n\u001b[0;32m----> 1\u001b[0;31m \u001b[0;32mdel\u001b[0m \u001b[0mp1\u001b[0m\u001b[0;34m.\u001b[0m\u001b[0mage\u001b[0m\u001b[0;34m\u001b[0m\u001b[0;34m\u001b[0m\u001b[0m\n\u001b[0m\u001b[1;32m      2\u001b[0m \u001b[0;32mdel\u001b[0m \u001b[0mp1\u001b[0m\u001b[0;34m\u001b[0m\u001b[0;34m\u001b[0m\u001b[0m\n\u001b[1;32m      3\u001b[0m \u001b[0;34m\u001b[0m\u001b[0m\n",
            "\u001b[0;31mAttributeError\u001b[0m: age"
          ]
        }
      ]
    },
    {
      "cell_type": "code",
      "metadata": {
        "id": "xTVbd9N8Thzz",
        "colab_type": "code",
        "outputId": "630eecbb-82df-4a84-828e-48c83a52cf9d",
        "colab": {
          "base_uri": "https://localhost:8080/",
          "height": 35
        }
      },
      "source": [
        "class Person:\n",
        "  def __init__(self, fname, lname):\n",
        "    self.firstname = fname\n",
        "    self.lastname = lname\n",
        "\n",
        "  def printname(self):\n",
        "    print(self.firstname, self.lastname)\n",
        "\n",
        "#Use the Person class to create an object, and then execute the printname method:\n",
        "\n",
        "x = Person(\"John\", \"Doe\")\n",
        "x.printname()"
      ],
      "execution_count": 0,
      "outputs": [
        {
          "output_type": "stream",
          "text": [
            "John Doe\n"
          ],
          "name": "stdout"
        }
      ]
    },
    {
      "cell_type": "code",
      "metadata": {
        "id": "GvmgaM6FWoBY",
        "colab_type": "code",
        "colab": {}
      },
      "source": [
        ""
      ],
      "execution_count": 0,
      "outputs": []
    },
    {
      "cell_type": "markdown",
      "metadata": {
        "id": "1rmY6Vv3WvYG",
        "colab_type": "text"
      },
      "source": [
        "PYTHON INHERITANCE - \n",
        "parent and chilren classes - \n",
        "Class and object"
      ]
    },
    {
      "cell_type": "code",
      "metadata": {
        "id": "P4qANuc-W6ND",
        "colab_type": "code",
        "outputId": "fcc25885-a2bf-41c7-d819-b794f85993b8",
        "colab": {
          "base_uri": "https://localhost:8080/",
          "height": 35
        }
      },
      "source": [
        "#create a parent class\n",
        "class Person:\n",
        "  def __init__(self, firstname, lastname):\n",
        "    self.firstname=firstname\n",
        "    self.lastname=lastname\n",
        "  def print_name(self):\n",
        "    print(self.firstname, self.lastname)\n",
        "# create children classes\n",
        "class Student(Person):\n",
        "  pass\n",
        "\n",
        "s1=Student(\"Myami\",\"Young\")\n",
        "s1.print_name()\n"
      ],
      "execution_count": 0,
      "outputs": [
        {
          "output_type": "stream",
          "text": [
            "Myami Young\n"
          ],
          "name": "stdout"
        }
      ]
    },
    {
      "cell_type": "code",
      "metadata": {
        "id": "Jn4E67smiGh1",
        "colab_type": "code",
        "outputId": "6aad7508-074c-401b-e1e4-6eb017f788f0",
        "colab": {
          "base_uri": "https://localhost:8080/",
          "height": 35
        }
      },
      "source": [
        "#create a parent class\n",
        "class Person:\n",
        "  def __init__(self, firstname, lastname):\n",
        "    self.firstname=firstname\n",
        "    self.lastname=lastname\n",
        "\n",
        "  def print_name(self):\n",
        "    print(self.firstname, self.lastname)\n",
        "# create children classes\n",
        "class Student(Person):\n",
        "  def __init__(self, fname, lname): # Interesting! I even don't need to match with the name or parameter of Parent class\n",
        "    Person.__init__(self, fname, lname)\n",
        "\n",
        "s1=Student(\"Myami\",\"Young\")\n",
        "s1.print_name()\n"
      ],
      "execution_count": 0,
      "outputs": [
        {
          "output_type": "stream",
          "text": [
            "Myami Young\n"
          ],
          "name": "stdout"
        }
      ]
    },
    {
      "cell_type": "code",
      "metadata": {
        "id": "NWG_ATXLzTIT",
        "colab_type": "code",
        "outputId": "a2f80fa7-aabb-4f1e-839b-9dd4f49cf9af",
        "colab": {
          "base_uri": "https://localhost:8080/",
          "height": 35
        }
      },
      "source": [
        "#create a parent class\n",
        "class Person:\n",
        "  def __init__(self, firstname, lastname):\n",
        "    self.firstname=firstname\n",
        "    self.lastname=lastname\n",
        "\n",
        "  def print_name(self):\n",
        "    print(self.firstname, self.lastname)\n",
        "# create children classes\n",
        "class Student(Person):\n",
        "  def __init__(self, fname, lname): \n",
        "    super(). __init__( fname, lname) # Here I used SUPER() to call a parent class without a name. Remember! There is only two papameter\n",
        "\n",
        "s1=Student(\"Myami\",\"Young\")\n",
        "s1.print_name()"
      ],
      "execution_count": 0,
      "outputs": [
        {
          "output_type": "stream",
          "text": [
            "Myami Young\n"
          ],
          "name": "stdout"
        }
      ]
    },
    {
      "cell_type": "code",
      "metadata": {
        "id": "uQexQtn10-v0",
        "colab_type": "code",
        "outputId": "e80c1242-03eb-495c-bd9b-939d77108723",
        "colab": {
          "base_uri": "https://localhost:8080/",
          "height": 52
        }
      },
      "source": [
        "#ADD PROPERTY TO CLASS\n",
        "#create a parent class\n",
        "class Person:\n",
        "  def __init__(self, firstname, lastname):\n",
        "    self.firstname=firstname\n",
        "    self.lastname=lastname\n",
        "\n",
        "  def print_name(self):\n",
        "    print(self.firstname, self.lastname)\n",
        "# create children classes\n",
        "class Student(Person):\n",
        "  def __init__(self, fname, lname,year): \n",
        "    super(). __init__( fname, lname) # Here I used SUPER() to call a parent class without a name. Remember! There is only two papameter\n",
        "    self.graduate_year=year\n",
        "s1=Student(\"Myami\",\"Young\", 2021)\n",
        "s1.print_name()\n",
        "s1.graduate_year"
      ],
      "execution_count": 0,
      "outputs": [
        {
          "output_type": "stream",
          "text": [
            "Myami Young\n"
          ],
          "name": "stdout"
        },
        {
          "output_type": "execute_result",
          "data": {
            "text/plain": [
              "2021"
            ]
          },
          "metadata": {
            "tags": []
          },
          "execution_count": 17
        }
      ]
    },
    {
      "cell_type": "code",
      "metadata": {
        "id": "V3A1DpsS2scS",
        "colab_type": "code",
        "outputId": "274cf084-0d92-4dde-c034-ce1c7112d6ee",
        "colab": {
          "base_uri": "https://localhost:8080/",
          "height": 52
        }
      },
      "source": [
        "# ADD A FUNCTION TO CLASS\n",
        "#Here, I want to add a printout function to the child class\n",
        "class Person:\n",
        "  def __init__(self, firstname, lastname):\n",
        "    self.firstname=firstname\n",
        "    self.lastname=lastname\n",
        "\n",
        "  def print_name(self):\n",
        "    print(self.firstname, self.lastname)\n",
        "# create children classes\n",
        "class Student(Person):\n",
        "  def __init__(self, fname, lname,year): \n",
        "    super(). __init__( fname, lname) # Here I used SUPER() to call a parent class without a name. Remember! There is only two papameter\n",
        "    self.graduate_year=year\n",
        "  def print_welcome(self):\n",
        "    print(\"Welcome\", self.lastname, \"to the class of\", self.graduate_year)\n",
        "s1=Student(\"Myami\",\"Young\", 2021)\n",
        "s1.print_name()\n",
        "s1.graduate_year\n",
        "s1.print_welcome()\n"
      ],
      "execution_count": 0,
      "outputs": [
        {
          "output_type": "stream",
          "text": [
            "Myami Young\n",
            "Welcome Young to the class of 2021\n"
          ],
          "name": "stdout"
        }
      ]
    },
    {
      "cell_type": "code",
      "metadata": {
        "id": "eZ6ekAlzvCsG",
        "colab_type": "code",
        "colab": {}
      },
      "source": [
        ""
      ],
      "execution_count": 0,
      "outputs": []
    },
    {
      "cell_type": "markdown",
      "metadata": {
        "id": "c9yRbbr4vDqq",
        "colab_type": "text"
      },
      "source": [
        "MODULE"
      ]
    },
    {
      "cell_type": "code",
      "metadata": {
        "id": "wZ2ErEWmvHA3",
        "colab_type": "code",
        "colab": {}
      },
      "source": [
        "def greeting(name):\n",
        "  print(\"Hello, \" + name)"
      ],
      "execution_count": 0,
      "outputs": []
    },
    {
      "cell_type": "code",
      "metadata": {
        "id": "PKpa6f2AwQTp",
        "colab_type": "code",
        "outputId": "08592d53-05e1-41b2-9790-d75af86c88ce",
        "colab": {
          "base_uri": "https://localhost:8080/",
          "height": 72
        }
      },
      "source": [
        "import platform\n",
        "x=platform.system()\n",
        "print(x)\n",
        "y=dir(platform)\n",
        "print(y)"
      ],
      "execution_count": 0,
      "outputs": [
        {
          "output_type": "stream",
          "text": [
            "Linux\n",
            "['DEV_NULL', '_UNIXCONFDIR', '_WIN32_CLIENT_RELEASES', '_WIN32_SERVER_RELEASES', '__builtins__', '__cached__', '__copyright__', '__doc__', '__file__', '__loader__', '__name__', '__package__', '__spec__', '__version__', '_codename_file_re', '_comparable_version', '_component_re', '_default_architecture', '_dist_try_harder', '_distributor_id_file_re', '_follow_symlinks', '_ironpython26_sys_version_parser', '_ironpython_sys_version_parser', '_java_getprop', '_libc_search', '_linux_distribution', '_lsb_release_version', '_mac_ver_xml', '_node', '_norm_version', '_parse_release_file', '_platform', '_platform_cache', '_pypy_sys_version_parser', '_release_file_re', '_release_filename', '_release_version', '_supported_dists', '_sys_version', '_sys_version_cache', '_sys_version_parser', '_syscmd_file', '_syscmd_uname', '_syscmd_ver', '_uname_cache', '_ver_output', '_ver_stages', 'architecture', 'collections', 'dist', 'java_ver', 'libc_ver', 'linux_distribution', 'mac_ver', 'machine', 'node', 'os', 'platform', 'popen', 'processor', 'python_branch', 'python_build', 'python_compiler', 'python_implementation', 'python_revision', 'python_version', 'python_version_tuple', 're', 'release', 'subprocess', 'sys', 'system', 'system_alias', 'uname', 'uname_result', 'version', 'warnings', 'win32_ver']\n"
          ],
          "name": "stdout"
        }
      ]
    },
    {
      "cell_type": "markdown",
      "metadata": {
        "id": "wIpEC0YMzV40",
        "colab_type": "text"
      },
      "source": [
        "DATE"
      ]
    },
    {
      "cell_type": "code",
      "metadata": {
        "id": "jd1OIe4gzYcK",
        "colab_type": "code",
        "outputId": "d7e0086a-4634-46eb-f225-647078a816eb",
        "colab": {
          "base_uri": "https://localhost:8080/",
          "height": 104
        }
      },
      "source": [
        "import datetime\n",
        "x=datetime.datetime.now()\n",
        "print(x)\n",
        "print(x.year)\n",
        "print(x.day)\n",
        "print(x.month)\n",
        "print(x.strftime(\"%A\"))"
      ],
      "execution_count": 0,
      "outputs": [
        {
          "output_type": "stream",
          "text": [
            "2020-01-05 22:25:39.623943\n",
            "2020\n",
            "5\n",
            "1\n",
            "Sunday\n"
          ],
          "name": "stdout"
        }
      ]
    },
    {
      "cell_type": "code",
      "metadata": {
        "id": "2N6ELJU60--t",
        "colab_type": "code",
        "outputId": "8682765e-0c62-4963-a426-18685b41f80b",
        "colab": {
          "base_uri": "https://localhost:8080/",
          "height": 87
        }
      },
      "source": [
        "#create a date object\n",
        "import datetime\n",
        "x=datetime.datetime(2021,5,31)\n",
        "print(x)\n",
        "print(x.strftime(\"%A\"))\n",
        "print(x.strftime(\"%B\"))\n",
        "print(x.strftime(\"%C\"))"
      ],
      "execution_count": 0,
      "outputs": [
        {
          "output_type": "stream",
          "text": [
            "2021-05-31 00:00:00\n",
            "Monday\n",
            "May\n",
            "20\n"
          ],
          "name": "stdout"
        }
      ]
    },
    {
      "cell_type": "markdown",
      "metadata": {
        "id": "A4mzLM8W3FKW",
        "colab_type": "text"
      },
      "source": [
        "JSON - a syntax for storing and exchanging data\n",
        "\n",
        "\n",
        "```\n",
        "# import json\n",
        "```\n",
        "\n"
      ]
    },
    {
      "cell_type": "code",
      "metadata": {
        "id": "dmS5WNJ-3SWu",
        "colab_type": "code",
        "outputId": "3c6939df-c83f-4e73-9d34-f7858d1776b8",
        "colab": {
          "base_uri": "https://localhost:8080/",
          "height": 52
        }
      },
      "source": [
        "#Parse JSON - Convert from JSON to Python\n",
        "import json\n",
        "# some JSON:\n",
        "x =  '{ \"name\":\"John\", \"age\":30, \"city\":\"New York\"}' # here, x is a string\n",
        "# parse x:\n",
        "y=json.loads(x) # but here, y becomes a dict\n",
        "print(type(y))\n",
        "print(y[\"city\"])"
      ],
      "execution_count": 0,
      "outputs": [
        {
          "output_type": "stream",
          "text": [
            "<class 'dict'>\n",
            "New York\n"
          ],
          "name": "stdout"
        }
      ]
    },
    {
      "cell_type": "code",
      "metadata": {
        "id": "Vbg-gDuv4jcm",
        "colab_type": "code",
        "outputId": "75a5f091-0cf9-4c01-b7a6-84c1a006f4c3",
        "colab": {
          "base_uri": "https://localhost:8080/",
          "height": 52
        }
      },
      "source": [
        "#Convert from Python to JSON\n",
        "import json\n",
        "# a Python object (dict):\n",
        "x= { \"name\":\"John\", \"age\":30, \"city\":\"New York\"}\n",
        "# convert into JSON:\n",
        "y=json.dumps(y)\n",
        "print(y)\n",
        "print(type(y))\n"
      ],
      "execution_count": 0,
      "outputs": [
        {
          "output_type": "stream",
          "text": [
            "\"\\\"{\\\\\\\"name\\\\\\\": \\\\\\\"John\\\\\\\", \\\\\\\"age\\\\\\\": 30, \\\\\\\"city\\\\\\\": \\\\\\\"New York\\\\\\\"}\\\"\"\n",
            "<class 'str'>\n"
          ],
          "name": "stdout"
        }
      ]
    },
    {
      "cell_type": "code",
      "metadata": {
        "id": "yvLZHxeZ5QnR",
        "colab_type": "code",
        "outputId": "84bea9a5-4ad0-4bc4-ef42-cf5ae335c9f7",
        "colab": {
          "base_uri": "https://localhost:8080/",
          "height": 173
        }
      },
      "source": [
        "# additionally, we can convert many other python types into JSON\n",
        "import json\n",
        "\n",
        "print(json.dumps({\"name\": \"John\", \"age\": 30}))\n",
        "print(json.dumps([\"apple\", \"bananas\"]))\n",
        "print(json.dumps((\"apple\", \"bananas\")))\n",
        "print(json.dumps(\"hello\"))\n",
        "print(json.dumps(42))\n",
        "print(json.dumps(31.76))\n",
        "print(json.dumps(True))\n",
        "print(json.dumps(False))\n",
        "print(json.dumps(None))"
      ],
      "execution_count": 0,
      "outputs": [
        {
          "output_type": "stream",
          "text": [
            "{\"name\": \"John\", \"age\": 30}\n",
            "[\"apple\", \"bananas\"]\n",
            "[\"apple\", \"bananas\"]\n",
            "\"hello\"\n",
            "42\n",
            "31.76\n",
            "true\n",
            "false\n",
            "null\n"
          ],
          "name": "stdout"
        }
      ]
    },
    {
      "cell_type": "code",
      "metadata": {
        "id": "9f19hjlf5s8j",
        "colab_type": "code",
        "outputId": "51c91646-0723-4532-8b8c-a40bea4e0b40",
        "colab": {
          "base_uri": "https://localhost:8080/",
          "height": 72
        }
      },
      "source": [
        "import json\n",
        "\n",
        "x = {\n",
        "  \"name\": \"John\",\n",
        "  \"age\": 30,\n",
        "  \"married\": True,\n",
        "  \"divorced\": False,\n",
        "  \"children\": (\"Ann\",\"Billy\"),\n",
        "  \"pets\": None,\n",
        "  \"cars\": [\n",
        "    {\"model\": \"BMW 230\", \"mpg\": 27.5},\n",
        "    {\"model\": \"Ford Edge\", \"mpg\": 24.1}\n",
        "  ]\n",
        "}\n",
        "\n",
        "print(json.dumps(x))\n",
        "json.dumps(x, indent=4, separators=(\". \", \" = \")) #Use the separators parameter to change the default separator:"
      ],
      "execution_count": 0,
      "outputs": [
        {
          "output_type": "stream",
          "text": [
            "{\"name\": \"John\", \"age\": 30, \"married\": true, \"divorced\": false, \"children\": [\"Ann\", \"Billy\"], \"pets\": null, \"cars\": [{\"model\": \"BMW 230\", \"mpg\": 27.5}, {\"model\": \"Ford Edge\", \"mpg\": 24.1}]}\n"
          ],
          "name": "stdout"
        },
        {
          "output_type": "execute_result",
          "data": {
            "text/plain": [
              "'{\\n    \"name\" = \"John\". \\n    \"age\" = 30. \\n    \"married\" = true. \\n    \"divorced\" = false. \\n    \"children\" = [\\n        \"Ann\". \\n        \"Billy\"\\n    ]. \\n    \"pets\" = null. \\n    \"cars\" = [\\n        {\\n            \"model\" = \"BMW 230\". \\n            \"mpg\" = 27.5\\n        }. \\n        {\\n            \"model\" = \"Ford Edge\". \\n            \"mpg\" = 24.1\\n        }\\n    ]\\n}'"
            ]
          },
          "metadata": {
            "tags": []
          },
          "execution_count": 3
        }
      ]
    },
    {
      "cell_type": "markdown",
      "metadata": {
        "id": "1U9cn5deB0uj",
        "colab_type": "text"
      },
      "source": [
        "PIP"
      ]
    },
    {
      "cell_type": "code",
      "metadata": {
        "id": "MpxQ8xBzB2ZH",
        "colab_type": "code",
        "outputId": "3189014c-597a-4780-da32-ac9aa8a09801",
        "colab": {
          "base_uri": "https://localhost:8080/",
          "height": 131
        }
      },
      "source": [
        "# how to check if pip has been installed in the computer????\n",
        "C:\\Users\\HuyenNguyen\\AppData\\Local\\Programs\\Python\\Python36\\Scripts>piplist\n"
      ],
      "execution_count": 0,
      "outputs": [
        {
          "output_type": "error",
          "ename": "SyntaxError",
          "evalue": "ignored",
          "traceback": [
            "\u001b[0;36m  File \u001b[0;32m\"<ipython-input-13-e2c37f4b65c8>\"\u001b[0;36m, line \u001b[0;32m1\u001b[0m\n\u001b[0;31m    C:\\Users\\HuyenNguyen\\AppData\\Local\\Programs\\Python\\Python36\\Scripts>piplist\u001b[0m\n\u001b[0m                                                                               ^\u001b[0m\n\u001b[0;31mSyntaxError\u001b[0m\u001b[0;31m:\u001b[0m unexpected character after line continuation character\n"
          ]
        }
      ]
    },
    {
      "cell_type": "code",
      "metadata": {
        "id": "1fk5c2tbJGDg",
        "colab_type": "code",
        "colab": {}
      },
      "source": [
        ""
      ],
      "execution_count": 0,
      "outputs": []
    },
    {
      "cell_type": "markdown",
      "metadata": {
        "id": "Sr5rCcpaJHD1",
        "colab_type": "text"
      },
      "source": [
        "TRY - EXCEPT - To test a block of code for errors\n",
        "\n",
        "The try block lets you test a block of code for errors.\n",
        "\n",
        "The except block lets you handle the error.\n",
        "\n",
        "The finally block lets you execute code, regardless of the result of the try- and except blocks."
      ]
    },
    {
      "cell_type": "code",
      "metadata": {
        "id": "YzR9WL5MKBnx",
        "colab_type": "code",
        "outputId": "e7f552a0-2c5f-4d3f-c37f-b165571c64b6",
        "colab": {
          "base_uri": "https://localhost:8080/",
          "height": 35
        }
      },
      "source": [
        "try:\n",
        "  print(a)\n",
        "except:\n",
        "  print (\"an exception occurs\")"
      ],
      "execution_count": 0,
      "outputs": [
        {
          "output_type": "stream",
          "text": [
            "an exception occurs\n"
          ],
          "name": "stdout"
        }
      ]
    },
    {
      "cell_type": "code",
      "metadata": {
        "id": "a2CZfVnHKkqW",
        "colab_type": "code",
        "outputId": "e7aedf79-08be-4b7e-e9f4-4db0948c893f",
        "colab": {
          "base_uri": "https://localhost:8080/",
          "height": 52
        }
      },
      "source": [
        "try:\n",
        "  print(\"Hello\")\n",
        "except:\n",
        "  print(\"Something went wrong\")\n",
        "else:\n",
        "  print(\"Nothing went wrong\")"
      ],
      "execution_count": 0,
      "outputs": [
        {
          "output_type": "stream",
          "text": [
            "Hello\n",
            "Nothing went wrong\n"
          ],
          "name": "stdout"
        }
      ]
    },
    {
      "cell_type": "code",
      "metadata": {
        "id": "29naFITYKrkV",
        "colab_type": "code",
        "outputId": "a704184f-2e66-488d-9930-3165cabddd51",
        "colab": {
          "base_uri": "https://localhost:8080/",
          "height": 72
        }
      },
      "source": [
        "try:\n",
        "  print(x)\n",
        "except:\n",
        "  print(\"Something went wrong\")\n",
        "finally:\n",
        "  print(\"The 'try except' is finished\")"
      ],
      "execution_count": 0,
      "outputs": [
        {
          "output_type": "stream",
          "text": [
            "{'name': 'John', 'age': 30, 'married': True, 'divorced': False, 'children': ('Ann', 'Billy'), 'pets': None, 'cars': [{'model': 'BMW 230', 'mpg': 27.5}, {'model': 'Ford Edge', 'mpg': 24.1}]}\n",
            "The 'try except' is finished\n"
          ],
          "name": "stdout"
        }
      ]
    },
    {
      "cell_type": "code",
      "metadata": {
        "id": "sZc_RcnlOYpl",
        "colab_type": "code",
        "colab": {}
      },
      "source": [
        "FILE"
      ],
      "execution_count": 0,
      "outputs": []
    },
    {
      "cell_type": "code",
      "metadata": {
        "id": "S69hxmKxOar7",
        "colab_type": "code",
        "outputId": "e24ed28e-c7c4-45c6-e073-1c1bdb7f5fde",
        "colab": {
          "base_uri": "https://localhost:8080/",
          "height": 183
        }
      },
      "source": [
        "#open a file / \n",
        "# \"r\": open to read an existing file//\n",
        "# \"w\": open to write, create a file if no existing file //\n",
        "#\"a\" open to append a file, create one if no existing\n",
        "#\"x\" create a specify file, return error if an existing file.\n",
        "my_file=open(\"someone like me\",\"rt\")\n",
        "f=open(\"today I live better than yesterday\",\"wt\")"
      ],
      "execution_count": 0,
      "outputs": [
        {
          "output_type": "error",
          "ename": "FileNotFoundError",
          "evalue": "ignored",
          "traceback": [
            "\u001b[0;31m---------------------------------------------------------------------------\u001b[0m",
            "\u001b[0;31mFileNotFoundError\u001b[0m                         Traceback (most recent call last)",
            "\u001b[0;32m<ipython-input-21-6800b313b5f1>\u001b[0m in \u001b[0;36m<module>\u001b[0;34m()\u001b[0m\n\u001b[0;32m----> 1\u001b[0;31m \u001b[0mmy_file\u001b[0m\u001b[0;34m=\u001b[0m\u001b[0mopen\u001b[0m\u001b[0;34m(\u001b[0m\u001b[0;34m\"someone like me\"\u001b[0m\u001b[0;34m,\u001b[0m\u001b[0;34m\"rt\"\u001b[0m\u001b[0;34m)\u001b[0m\u001b[0;34m\u001b[0m\u001b[0;34m\u001b[0m\u001b[0m\n\u001b[0m\u001b[1;32m      2\u001b[0m \u001b[0mf\u001b[0m\u001b[0;34m=\u001b[0m\u001b[0mopen\u001b[0m\u001b[0;34m(\u001b[0m\u001b[0;34m\"today I live better than yesterday\"\u001b[0m\u001b[0;34m,\u001b[0m\u001b[0;34m\"wt\"\u001b[0m\u001b[0;34m)\u001b[0m\u001b[0;34m\u001b[0m\u001b[0;34m\u001b[0m\u001b[0m\n",
            "\u001b[0;31mFileNotFoundError\u001b[0m: [Errno 2] No such file or directory: 'someone like me'"
          ]
        }
      ]
    },
    {
      "cell_type": "code",
      "metadata": {
        "id": "l9kJ7qplQisQ",
        "colab_type": "code",
        "outputId": "c0c2a3e1-fbbc-4dad-b68e-3123eff1c080",
        "colab": {
          "base_uri": "https://localhost:8080/",
          "height": 183
        }
      },
      "source": [
        "# READ A FILE\n",
        "f=open(\"foo\",\"r\")\n",
        "print(f.read())\n",
        "print(f.read(5)) # Open and read the first 5 characters\n",
        "print(f.readline()) # Open and read the first line/ call twice readline to print two lines"
      ],
      "execution_count": 0,
      "outputs": [
        {
          "output_type": "error",
          "ename": "FileNotFoundError",
          "evalue": "ignored",
          "traceback": [
            "\u001b[0;31m---------------------------------------------------------------------------\u001b[0m",
            "\u001b[0;31mFileNotFoundError\u001b[0m                         Traceback (most recent call last)",
            "\u001b[0;32m<ipython-input-22-c0efc277fcd8>\u001b[0m in \u001b[0;36m<module>\u001b[0;34m()\u001b[0m\n\u001b[0;32m----> 1\u001b[0;31m \u001b[0mf\u001b[0m\u001b[0;34m=\u001b[0m\u001b[0mopen\u001b[0m\u001b[0;34m(\u001b[0m\u001b[0;34m\"foo\"\u001b[0m\u001b[0;34m,\u001b[0m\u001b[0;34m\"r\"\u001b[0m\u001b[0;34m)\u001b[0m\u001b[0;34m\u001b[0m\u001b[0;34m\u001b[0m\u001b[0m\n\u001b[0m\u001b[1;32m      2\u001b[0m \u001b[0mprint\u001b[0m\u001b[0;34m(\u001b[0m\u001b[0mf\u001b[0m\u001b[0;34m.\u001b[0m\u001b[0mread\u001b[0m\u001b[0;34m(\u001b[0m\u001b[0;34m)\u001b[0m\u001b[0;34m)\u001b[0m\u001b[0;34m\u001b[0m\u001b[0;34m\u001b[0m\u001b[0m\n",
            "\u001b[0;31mFileNotFoundError\u001b[0m: [Errno 2] No such file or directory: 'foo'"
          ]
        }
      ]
    },
    {
      "cell_type": "code",
      "metadata": {
        "id": "Z6rAUVEOTEPz",
        "colab_type": "code",
        "outputId": "24981f25-a490-4b66-8601-abbb0fd13354",
        "colab": {
          "base_uri": "https://localhost:8080/",
          "height": 218
        }
      },
      "source": [
        "# READ A FILE BY LOOP FOR\n",
        "f=open(\"foo\",\"r\")\n",
        "for x in f:\n",
        "  print (x)\n",
        "f.close() # it'd rather close a file after finishing it"
      ],
      "execution_count": 0,
      "outputs": [
        {
          "output_type": "error",
          "ename": "FileNotFoundError",
          "evalue": "ignored",
          "traceback": [
            "\u001b[0;31m---------------------------------------------------------------------------\u001b[0m",
            "\u001b[0;31mFileNotFoundError\u001b[0m                         Traceback (most recent call last)",
            "\u001b[0;32m<ipython-input-24-5b0407432c64>\u001b[0m in \u001b[0;36m<module>\u001b[0;34m()\u001b[0m\n\u001b[0;32m----> 1\u001b[0;31m \u001b[0mf\u001b[0m\u001b[0;34m=\u001b[0m\u001b[0mopen\u001b[0m\u001b[0;34m(\u001b[0m\u001b[0;34m\"foo\"\u001b[0m\u001b[0;34m,\u001b[0m\u001b[0;34m\"r\"\u001b[0m\u001b[0;34m)\u001b[0m\u001b[0;34m\u001b[0m\u001b[0;34m\u001b[0m\u001b[0m\n\u001b[0m\u001b[1;32m      2\u001b[0m \u001b[0;32mfor\u001b[0m \u001b[0mx\u001b[0m \u001b[0;32min\u001b[0m \u001b[0mf\u001b[0m\u001b[0;34m:\u001b[0m\u001b[0;34m\u001b[0m\u001b[0;34m\u001b[0m\u001b[0m\n\u001b[1;32m      3\u001b[0m   \u001b[0mprint\u001b[0m \u001b[0;34m(\u001b[0m\u001b[0mx\u001b[0m\u001b[0;34m)\u001b[0m\u001b[0;34m\u001b[0m\u001b[0;34m\u001b[0m\u001b[0m\n\u001b[1;32m      4\u001b[0m \u001b[0mf\u001b[0m\u001b[0;34m.\u001b[0m\u001b[0mclose\u001b[0m\u001b[0;34m(\u001b[0m\u001b[0;34m)\u001b[0m\u001b[0;34m\u001b[0m\u001b[0;34m\u001b[0m\u001b[0m\n",
            "\u001b[0;31mFileNotFoundError\u001b[0m: [Errno 2] No such file or directory: 'foo'"
          ]
        }
      ]
    },
    {
      "cell_type": "code",
      "metadata": {
        "id": "H0p9YlI5UxRZ",
        "colab_type": "code",
        "outputId": "b550d2b7-ed2b-42fb-c9f9-3150ccf9613c",
        "colab": {
          "base_uri": "https://localhost:8080/",
          "height": 72
        }
      },
      "source": [
        "# WRITE IN A FILE\n",
        "# \"a\": append to the the end of the file\n",
        "f=open(\"for fun\",\"a\")\n",
        "f.write (\"This file is just for fun and for testing my codes.\")\n",
        "f=open(\"for fun\",\"r\")\n",
        "print(f.read())\n",
        "#  \"w\" : overwrite the entire file\n",
        "f=open(\"for fun\",\"w\")\n",
        "f.write(\"Oh, my content has lost\")\n",
        "f=open(\"for fun\",\"r\")\n",
        "print(f.read())"
      ],
      "execution_count": 0,
      "outputs": [
        {
          "output_type": "stream",
          "text": [
            " This file is just for fun and for testing my codes This file is just for fun and for testing my codes This file is just for fun and for testing my codes This file is just for fun and for testing my codes.This file is just for fun and for testing my codes.This file is just for fun and for testing my codes.\n",
            "Oh, my content has lost\n"
          ],
          "name": "stdout"
        }
      ]
    }
  ]
}